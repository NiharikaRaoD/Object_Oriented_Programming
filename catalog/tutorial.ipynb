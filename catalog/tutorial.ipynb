{
 "cells": [
  {
   "cell_type": "code",
   "execution_count": 2,
   "id": "95a96104",
   "metadata": {},
   "outputs": [],
   "source": [
    "import pandas as pd"
   ]
  },
  {
   "cell_type": "code",
   "execution_count": null,
   "id": "2cb94ac6",
   "metadata": {},
   "outputs": [],
   "source": [
    "# Series 1-D data\n",
    "series = pd.Series([1,2,3,4,5])"
   ]
  },
  {
   "cell_type": "code",
   "execution_count": 4,
   "id": "17ab6a75",
   "metadata": {},
   "outputs": [
    {
     "data": {
      "text/plain": [
       "pandas.core.series.Series"
      ]
     },
     "execution_count": 4,
     "metadata": {},
     "output_type": "execute_result"
    }
   ],
   "source": [
    "type(series)"
   ]
  },
  {
   "cell_type": "code",
   "execution_count": 9,
   "id": "de325004",
   "metadata": {},
   "outputs": [],
   "source": [
    "# Dataframe 2-D data\n",
    "frame = pd.DataFrame([{\n",
    "    'Name' : 'Tea',\n",
    "    'Price' : 20\n",
    "}, {\n",
    "    'Name' : 'Coffee',\n",
    "    'Price' : 25\n",
    "\n",
    "}])"
   ]
  },
  {
   "cell_type": "code",
   "execution_count": 10,
   "id": "da0159cd",
   "metadata": {},
   "outputs": [
    {
     "data": {
      "text/plain": [
       "pandas.core.frame.DataFrame"
      ]
     },
     "execution_count": 10,
     "metadata": {},
     "output_type": "execute_result"
    }
   ],
   "source": [
    "type(frame)"
   ]
  },
  {
   "cell_type": "code",
   "execution_count": null,
   "id": "b9326c1a",
   "metadata": {},
   "outputs": [],
   "source": [
    "frame.to_csv('items.csv', header=True, index=False)"
   ]
  },
  {
   "cell_type": "code",
   "execution_count": 38,
   "id": "acf67c50",
   "metadata": {},
   "outputs": [],
   "source": [
    "catalog_df = pd.read_csv('catalog.csv')"
   ]
  },
  {
   "cell_type": "code",
   "execution_count": 39,
   "id": "cbdc3262",
   "metadata": {},
   "outputs": [
    {
     "data": {
      "text/html": [
       "<div>\n",
       "<style scoped>\n",
       "    .dataframe tbody tr th:only-of-type {\n",
       "        vertical-align: middle;\n",
       "    }\n",
       "\n",
       "    .dataframe tbody tr th {\n",
       "        vertical-align: top;\n",
       "    }\n",
       "\n",
       "    .dataframe thead th {\n",
       "        text-align: right;\n",
       "    }\n",
       "</style>\n",
       "<table border=\"1\" class=\"dataframe\">\n",
       "  <thead>\n",
       "    <tr style=\"text-align: right;\">\n",
       "      <th></th>\n",
       "      <th>ItemID</th>\n",
       "      <th>ItemName</th>\n",
       "      <th>RestaurantName</th>\n",
       "      <th>Price</th>\n",
       "      <th>Description</th>\n",
       "    </tr>\n",
       "  </thead>\n",
       "  <tbody>\n",
       "    <tr>\n",
       "      <th>0</th>\n",
       "      <td>I001</td>\n",
       "      <td>Kung Pao Chicken</td>\n",
       "      <td>Golden Dragon</td>\n",
       "      <td>12.99</td>\n",
       "      <td>Spicy stir fried chicken with peanuts and chili</td>\n",
       "    </tr>\n",
       "    <tr>\n",
       "      <th>1</th>\n",
       "      <td>I002</td>\n",
       "      <td>Beef Tacos</td>\n",
       "      <td>El Toro Loco</td>\n",
       "      <td>9.49</td>\n",
       "      <td>Soft tortillas filled with seasoned beef and s...</td>\n",
       "    </tr>\n",
       "    <tr>\n",
       "      <th>2</th>\n",
       "      <td>I003</td>\n",
       "      <td>Pad Thai</td>\n",
       "      <td>Spice Route</td>\n",
       "      <td>11.99</td>\n",
       "      <td>Classic rice noodle dish with tofu and peanuts</td>\n",
       "    </tr>\n",
       "    <tr>\n",
       "      <th>3</th>\n",
       "      <td>I004</td>\n",
       "      <td>Greek Salad</td>\n",
       "      <td>The Greek Table</td>\n",
       "      <td>8.99</td>\n",
       "      <td>Fresh salad with feta olives and olive oil</td>\n",
       "    </tr>\n",
       "    <tr>\n",
       "      <th>4</th>\n",
       "      <td>I005</td>\n",
       "      <td>Margherita Pizza</td>\n",
       "      <td>Bella Vita</td>\n",
       "      <td>13.49</td>\n",
       "      <td>Wood fired pizza with tomato sauce and mozzarella</td>\n",
       "    </tr>\n",
       "    <tr>\n",
       "      <th>5</th>\n",
       "      <td>I006</td>\n",
       "      <td>Sweet and Sour Pork</td>\n",
       "      <td>Dragon Wok</td>\n",
       "      <td>10.99</td>\n",
       "      <td>Crispy pork in tangy sweet and sour sauce</td>\n",
       "    </tr>\n",
       "    <tr>\n",
       "      <th>6</th>\n",
       "      <td>I007</td>\n",
       "      <td>Chicken Shawarma</td>\n",
       "      <td>La Casa De Tapas</td>\n",
       "      <td>12.49</td>\n",
       "      <td>Grilled chicken wrapped with garlic sauce</td>\n",
       "    </tr>\n",
       "    <tr>\n",
       "      <th>7</th>\n",
       "      <td>I008</td>\n",
       "      <td>Chicken Quesadilla</td>\n",
       "      <td>Chili Lime</td>\n",
       "      <td>9.99</td>\n",
       "      <td>Grilled tortilla stuffed with cheese and chicken</td>\n",
       "    </tr>\n",
       "    <tr>\n",
       "      <th>8</th>\n",
       "      <td>I009</td>\n",
       "      <td>Spaghetti Carbonara</td>\n",
       "      <td>Pasta Palace</td>\n",
       "      <td>12.99</td>\n",
       "      <td>Classic pasta with eggs cheese and bacon</td>\n",
       "    </tr>\n",
       "    <tr>\n",
       "      <th>9</th>\n",
       "      <td>I010</td>\n",
       "      <td>Green Curry</td>\n",
       "      <td>Phuket Spice</td>\n",
       "      <td>11.49</td>\n",
       "      <td>Thai curry with coconut milk and vegetables</td>\n",
       "    </tr>\n",
       "    <tr>\n",
       "      <th>10</th>\n",
       "      <td>I011</td>\n",
       "      <td>Spring Rolls</td>\n",
       "      <td>Shanghai Express</td>\n",
       "      <td>6.99</td>\n",
       "      <td>Crispy rolls filled with vegetables</td>\n",
       "    </tr>\n",
       "    <tr>\n",
       "      <th>11</th>\n",
       "      <td>I012</td>\n",
       "      <td>Enchiladas</td>\n",
       "      <td>La Fiesta</td>\n",
       "      <td>10.99</td>\n",
       "      <td>Tortillas rolled with chicken and mild chili s...</td>\n",
       "    </tr>\n",
       "    <tr>\n",
       "      <th>12</th>\n",
       "      <td>I013</td>\n",
       "      <td>Hummus Plate</td>\n",
       "      <td>Olive Grove</td>\n",
       "      <td>7.99</td>\n",
       "      <td>Mashed chickpeas served with pita bread</td>\n",
       "    </tr>\n",
       "    <tr>\n",
       "      <th>13</th>\n",
       "      <td>I014</td>\n",
       "      <td>Lasagna</td>\n",
       "      <td>Trattoria Roma</td>\n",
       "      <td>13.99</td>\n",
       "      <td>Layered pasta with meat sauce and cheese</td>\n",
       "    </tr>\n",
       "    <tr>\n",
       "      <th>14</th>\n",
       "      <td>I015</td>\n",
       "      <td>Basil Fried Rice</td>\n",
       "      <td>Lotus Leaf</td>\n",
       "      <td>10.49</td>\n",
       "      <td>Thai style fried rice with basil and egg</td>\n",
       "    </tr>\n",
       "  </tbody>\n",
       "</table>\n",
       "</div>"
      ],
      "text/plain": [
       "   ItemID             ItemName    RestaurantName  Price  \\\n",
       "0    I001     Kung Pao Chicken     Golden Dragon  12.99   \n",
       "1    I002           Beef Tacos      El Toro Loco   9.49   \n",
       "2    I003             Pad Thai       Spice Route  11.99   \n",
       "3    I004          Greek Salad   The Greek Table   8.99   \n",
       "4    I005     Margherita Pizza        Bella Vita  13.49   \n",
       "5    I006  Sweet and Sour Pork        Dragon Wok  10.99   \n",
       "6    I007     Chicken Shawarma  La Casa De Tapas  12.49   \n",
       "7    I008   Chicken Quesadilla        Chili Lime   9.99   \n",
       "8    I009  Spaghetti Carbonara      Pasta Palace  12.99   \n",
       "9    I010          Green Curry      Phuket Spice  11.49   \n",
       "10   I011         Spring Rolls  Shanghai Express   6.99   \n",
       "11   I012           Enchiladas         La Fiesta  10.99   \n",
       "12   I013         Hummus Plate       Olive Grove   7.99   \n",
       "13   I014              Lasagna    Trattoria Roma  13.99   \n",
       "14   I015     Basil Fried Rice        Lotus Leaf  10.49   \n",
       "\n",
       "                                          Description  \n",
       "0     Spicy stir fried chicken with peanuts and chili  \n",
       "1   Soft tortillas filled with seasoned beef and s...  \n",
       "2      Classic rice noodle dish with tofu and peanuts  \n",
       "3          Fresh salad with feta olives and olive oil  \n",
       "4   Wood fired pizza with tomato sauce and mozzarella  \n",
       "5           Crispy pork in tangy sweet and sour sauce  \n",
       "6           Grilled chicken wrapped with garlic sauce  \n",
       "7    Grilled tortilla stuffed with cheese and chicken  \n",
       "8            Classic pasta with eggs cheese and bacon  \n",
       "9         Thai curry with coconut milk and vegetables  \n",
       "10                Crispy rolls filled with vegetables  \n",
       "11  Tortillas rolled with chicken and mild chili s...  \n",
       "12            Mashed chickpeas served with pita bread  \n",
       "13           Layered pasta with meat sauce and cheese  \n",
       "14           Thai style fried rice with basil and egg  "
      ]
     },
     "execution_count": 39,
     "metadata": {},
     "output_type": "execute_result"
    }
   ],
   "source": [
    "catalog_df"
   ]
  },
  {
   "cell_type": "code",
   "execution_count": 40,
   "id": "f416ed5e",
   "metadata": {},
   "outputs": [
    {
     "data": {
      "text/plain": [
       "0     False\n",
       "1     False\n",
       "2     False\n",
       "3     False\n",
       "4     False\n",
       "5     False\n",
       "6     False\n",
       "7     False\n",
       "8     False\n",
       "9     False\n",
       "10     True\n",
       "11    False\n",
       "12    False\n",
       "13    False\n",
       "14    False\n",
       "Name: ItemID, dtype: bool"
      ]
     },
     "execution_count": 40,
     "metadata": {},
     "output_type": "execute_result"
    }
   ],
   "source": [
    "catalog_df['ItemID'] == 'I011'"
   ]
  },
  {
   "cell_type": "code",
   "execution_count": 41,
   "id": "934f8cdc",
   "metadata": {},
   "outputs": [
    {
     "data": {
      "text/plain": [
       "0     12.99\n",
       "1      9.49\n",
       "2     11.99\n",
       "3      8.99\n",
       "4     13.49\n",
       "5     10.99\n",
       "6     12.49\n",
       "7      9.99\n",
       "8     12.99\n",
       "9     11.49\n",
       "10     6.99\n",
       "11    10.99\n",
       "12     7.99\n",
       "13    13.99\n",
       "14    10.49\n",
       "Name: Price, dtype: float64"
      ]
     },
     "execution_count": 41,
     "metadata": {},
     "output_type": "execute_result"
    }
   ],
   "source": [
    "catalog_df.Price"
   ]
  },
  {
   "cell_type": "code",
   "execution_count": 33,
   "id": "9ca3853f",
   "metadata": {},
   "outputs": [
    {
     "data": {
      "text/plain": [
       "ItemID                                                       I001\n",
       "ItemName                                         Kung Pao Chicken\n",
       "RestaurantName                                      Golden Dragon\n",
       "Price                                                       12.99\n",
       "Description       Spicy stir fried chicken with peanuts and chili\n",
       "Name: 0, dtype: object"
      ]
     },
     "execution_count": 33,
     "metadata": {},
     "output_type": "execute_result"
    }
   ],
   "source": [
    "catalog_df.iloc[0]\n"
   ]
  },
  {
   "cell_type": "code",
   "execution_count": 46,
   "id": "201a9981",
   "metadata": {},
   "outputs": [],
   "source": [
    "catalog_df = pd.read_csv('catalog.csv', index_col = 'ItemID')"
   ]
  },
  {
   "cell_type": "code",
   "execution_count": 49,
   "id": "37155301",
   "metadata": {},
   "outputs": [
    {
     "data": {
      "text/plain": [
       "ItemName                                 Spring Rolls\n",
       "RestaurantName                       Shanghai Express\n",
       "Price                                            6.99\n",
       "Description       Crispy rolls filled with vegetables\n",
       "Name: I011, dtype: object"
      ]
     },
     "execution_count": 49,
     "metadata": {},
     "output_type": "execute_result"
    }
   ],
   "source": [
    "catalog_df.loc['I011']"
   ]
  },
  {
   "cell_type": "code",
   "execution_count": 50,
   "id": "f383df09",
   "metadata": {},
   "outputs": [
    {
     "data": {
      "text/plain": [
       "np.float64(6.99)"
      ]
     },
     "execution_count": 50,
     "metadata": {},
     "output_type": "execute_result"
    }
   ],
   "source": [
    "catalog_df.loc['I011']['Price']"
   ]
  },
  {
   "cell_type": "code",
   "execution_count": 51,
   "id": "88a7c7e0",
   "metadata": {},
   "outputs": [
    {
     "data": {
      "text/html": [
       "<div>\n",
       "<style scoped>\n",
       "    .dataframe tbody tr th:only-of-type {\n",
       "        vertical-align: middle;\n",
       "    }\n",
       "\n",
       "    .dataframe tbody tr th {\n",
       "        vertical-align: top;\n",
       "    }\n",
       "\n",
       "    .dataframe thead th {\n",
       "        text-align: right;\n",
       "    }\n",
       "</style>\n",
       "<table border=\"1\" class=\"dataframe\">\n",
       "  <thead>\n",
       "    <tr style=\"text-align: right;\">\n",
       "      <th></th>\n",
       "      <th>ItemName</th>\n",
       "      <th>RestaurantName</th>\n",
       "      <th>Price</th>\n",
       "      <th>Description</th>\n",
       "    </tr>\n",
       "    <tr>\n",
       "      <th>ItemID</th>\n",
       "      <th></th>\n",
       "      <th></th>\n",
       "      <th></th>\n",
       "      <th></th>\n",
       "    </tr>\n",
       "  </thead>\n",
       "  <tbody>\n",
       "    <tr>\n",
       "      <th>I001</th>\n",
       "      <td>Kung Pao Chicken</td>\n",
       "      <td>Golden Dragon</td>\n",
       "      <td>12.99</td>\n",
       "      <td>Spicy stir fried chicken with peanuts and chili</td>\n",
       "    </tr>\n",
       "    <tr>\n",
       "      <th>I005</th>\n",
       "      <td>Margherita Pizza</td>\n",
       "      <td>Bella Vita</td>\n",
       "      <td>13.49</td>\n",
       "      <td>Wood fired pizza with tomato sauce and mozzarella</td>\n",
       "    </tr>\n",
       "    <tr>\n",
       "      <th>I007</th>\n",
       "      <td>Chicken Shawarma</td>\n",
       "      <td>La Casa De Tapas</td>\n",
       "      <td>12.49</td>\n",
       "      <td>Grilled chicken wrapped with garlic sauce</td>\n",
       "    </tr>\n",
       "    <tr>\n",
       "      <th>I009</th>\n",
       "      <td>Spaghetti Carbonara</td>\n",
       "      <td>Pasta Palace</td>\n",
       "      <td>12.99</td>\n",
       "      <td>Classic pasta with eggs cheese and bacon</td>\n",
       "    </tr>\n",
       "    <tr>\n",
       "      <th>I014</th>\n",
       "      <td>Lasagna</td>\n",
       "      <td>Trattoria Roma</td>\n",
       "      <td>13.99</td>\n",
       "      <td>Layered pasta with meat sauce and cheese</td>\n",
       "    </tr>\n",
       "  </tbody>\n",
       "</table>\n",
       "</div>"
      ],
      "text/plain": [
       "                   ItemName    RestaurantName  Price  \\\n",
       "ItemID                                                 \n",
       "I001       Kung Pao Chicken     Golden Dragon  12.99   \n",
       "I005       Margherita Pizza        Bella Vita  13.49   \n",
       "I007       Chicken Shawarma  La Casa De Tapas  12.49   \n",
       "I009    Spaghetti Carbonara      Pasta Palace  12.99   \n",
       "I014                Lasagna    Trattoria Roma  13.99   \n",
       "\n",
       "                                              Description  \n",
       "ItemID                                                     \n",
       "I001      Spicy stir fried chicken with peanuts and chili  \n",
       "I005    Wood fired pizza with tomato sauce and mozzarella  \n",
       "I007            Grilled chicken wrapped with garlic sauce  \n",
       "I009             Classic pasta with eggs cheese and bacon  \n",
       "I014             Layered pasta with meat sauce and cheese  "
      ]
     },
     "execution_count": 51,
     "metadata": {},
     "output_type": "execute_result"
    }
   ],
   "source": [
    "# how to search for records where price > $12\n",
    "\n",
    "catalog_df.loc[catalog_df['Price']>12]"
   ]
  },
  {
   "cell_type": "code",
   "execution_count": 52,
   "id": "510c25cb",
   "metadata": {},
   "outputs": [],
   "source": [
    "#Increase prices by 15%\n",
    "catalog_df['Price'] = catalog_df['Price'] * 1.15"
   ]
  },
  {
   "cell_type": "code",
   "execution_count": 53,
   "id": "a17ea8df",
   "metadata": {},
   "outputs": [
    {
     "data": {
      "text/html": [
       "<div>\n",
       "<style scoped>\n",
       "    .dataframe tbody tr th:only-of-type {\n",
       "        vertical-align: middle;\n",
       "    }\n",
       "\n",
       "    .dataframe tbody tr th {\n",
       "        vertical-align: top;\n",
       "    }\n",
       "\n",
       "    .dataframe thead th {\n",
       "        text-align: right;\n",
       "    }\n",
       "</style>\n",
       "<table border=\"1\" class=\"dataframe\">\n",
       "  <thead>\n",
       "    <tr style=\"text-align: right;\">\n",
       "      <th></th>\n",
       "      <th>ItemName</th>\n",
       "      <th>RestaurantName</th>\n",
       "      <th>Price</th>\n",
       "      <th>Description</th>\n",
       "    </tr>\n",
       "    <tr>\n",
       "      <th>ItemID</th>\n",
       "      <th></th>\n",
       "      <th></th>\n",
       "      <th></th>\n",
       "      <th></th>\n",
       "    </tr>\n",
       "  </thead>\n",
       "  <tbody>\n",
       "    <tr>\n",
       "      <th>I001</th>\n",
       "      <td>Kung Pao Chicken</td>\n",
       "      <td>Golden Dragon</td>\n",
       "      <td>14.9385</td>\n",
       "      <td>Spicy stir fried chicken with peanuts and chili</td>\n",
       "    </tr>\n",
       "    <tr>\n",
       "      <th>I002</th>\n",
       "      <td>Beef Tacos</td>\n",
       "      <td>El Toro Loco</td>\n",
       "      <td>10.9135</td>\n",
       "      <td>Soft tortillas filled with seasoned beef and s...</td>\n",
       "    </tr>\n",
       "    <tr>\n",
       "      <th>I003</th>\n",
       "      <td>Pad Thai</td>\n",
       "      <td>Spice Route</td>\n",
       "      <td>13.7885</td>\n",
       "      <td>Classic rice noodle dish with tofu and peanuts</td>\n",
       "    </tr>\n",
       "    <tr>\n",
       "      <th>I004</th>\n",
       "      <td>Greek Salad</td>\n",
       "      <td>The Greek Table</td>\n",
       "      <td>10.3385</td>\n",
       "      <td>Fresh salad with feta olives and olive oil</td>\n",
       "    </tr>\n",
       "    <tr>\n",
       "      <th>I005</th>\n",
       "      <td>Margherita Pizza</td>\n",
       "      <td>Bella Vita</td>\n",
       "      <td>15.5135</td>\n",
       "      <td>Wood fired pizza with tomato sauce and mozzarella</td>\n",
       "    </tr>\n",
       "    <tr>\n",
       "      <th>I006</th>\n",
       "      <td>Sweet and Sour Pork</td>\n",
       "      <td>Dragon Wok</td>\n",
       "      <td>12.6385</td>\n",
       "      <td>Crispy pork in tangy sweet and sour sauce</td>\n",
       "    </tr>\n",
       "    <tr>\n",
       "      <th>I007</th>\n",
       "      <td>Chicken Shawarma</td>\n",
       "      <td>La Casa De Tapas</td>\n",
       "      <td>14.3635</td>\n",
       "      <td>Grilled chicken wrapped with garlic sauce</td>\n",
       "    </tr>\n",
       "    <tr>\n",
       "      <th>I008</th>\n",
       "      <td>Chicken Quesadilla</td>\n",
       "      <td>Chili Lime</td>\n",
       "      <td>11.4885</td>\n",
       "      <td>Grilled tortilla stuffed with cheese and chicken</td>\n",
       "    </tr>\n",
       "    <tr>\n",
       "      <th>I009</th>\n",
       "      <td>Spaghetti Carbonara</td>\n",
       "      <td>Pasta Palace</td>\n",
       "      <td>14.9385</td>\n",
       "      <td>Classic pasta with eggs cheese and bacon</td>\n",
       "    </tr>\n",
       "    <tr>\n",
       "      <th>I010</th>\n",
       "      <td>Green Curry</td>\n",
       "      <td>Phuket Spice</td>\n",
       "      <td>13.2135</td>\n",
       "      <td>Thai curry with coconut milk and vegetables</td>\n",
       "    </tr>\n",
       "    <tr>\n",
       "      <th>I011</th>\n",
       "      <td>Spring Rolls</td>\n",
       "      <td>Shanghai Express</td>\n",
       "      <td>8.0385</td>\n",
       "      <td>Crispy rolls filled with vegetables</td>\n",
       "    </tr>\n",
       "    <tr>\n",
       "      <th>I012</th>\n",
       "      <td>Enchiladas</td>\n",
       "      <td>La Fiesta</td>\n",
       "      <td>12.6385</td>\n",
       "      <td>Tortillas rolled with chicken and mild chili s...</td>\n",
       "    </tr>\n",
       "    <tr>\n",
       "      <th>I013</th>\n",
       "      <td>Hummus Plate</td>\n",
       "      <td>Olive Grove</td>\n",
       "      <td>9.1885</td>\n",
       "      <td>Mashed chickpeas served with pita bread</td>\n",
       "    </tr>\n",
       "    <tr>\n",
       "      <th>I014</th>\n",
       "      <td>Lasagna</td>\n",
       "      <td>Trattoria Roma</td>\n",
       "      <td>16.0885</td>\n",
       "      <td>Layered pasta with meat sauce and cheese</td>\n",
       "    </tr>\n",
       "    <tr>\n",
       "      <th>I015</th>\n",
       "      <td>Basil Fried Rice</td>\n",
       "      <td>Lotus Leaf</td>\n",
       "      <td>12.0635</td>\n",
       "      <td>Thai style fried rice with basil and egg</td>\n",
       "    </tr>\n",
       "  </tbody>\n",
       "</table>\n",
       "</div>"
      ],
      "text/plain": [
       "                   ItemName    RestaurantName    Price  \\\n",
       "ItemID                                                   \n",
       "I001       Kung Pao Chicken     Golden Dragon  14.9385   \n",
       "I002             Beef Tacos      El Toro Loco  10.9135   \n",
       "I003               Pad Thai       Spice Route  13.7885   \n",
       "I004            Greek Salad   The Greek Table  10.3385   \n",
       "I005       Margherita Pizza        Bella Vita  15.5135   \n",
       "I006    Sweet and Sour Pork        Dragon Wok  12.6385   \n",
       "I007       Chicken Shawarma  La Casa De Tapas  14.3635   \n",
       "I008     Chicken Quesadilla        Chili Lime  11.4885   \n",
       "I009    Spaghetti Carbonara      Pasta Palace  14.9385   \n",
       "I010            Green Curry      Phuket Spice  13.2135   \n",
       "I011           Spring Rolls  Shanghai Express   8.0385   \n",
       "I012             Enchiladas         La Fiesta  12.6385   \n",
       "I013           Hummus Plate       Olive Grove   9.1885   \n",
       "I014                Lasagna    Trattoria Roma  16.0885   \n",
       "I015       Basil Fried Rice        Lotus Leaf  12.0635   \n",
       "\n",
       "                                              Description  \n",
       "ItemID                                                     \n",
       "I001      Spicy stir fried chicken with peanuts and chili  \n",
       "I002    Soft tortillas filled with seasoned beef and s...  \n",
       "I003       Classic rice noodle dish with tofu and peanuts  \n",
       "I004           Fresh salad with feta olives and olive oil  \n",
       "I005    Wood fired pizza with tomato sauce and mozzarella  \n",
       "I006            Crispy pork in tangy sweet and sour sauce  \n",
       "I007            Grilled chicken wrapped with garlic sauce  \n",
       "I008     Grilled tortilla stuffed with cheese and chicken  \n",
       "I009             Classic pasta with eggs cheese and bacon  \n",
       "I010          Thai curry with coconut milk and vegetables  \n",
       "I011                  Crispy rolls filled with vegetables  \n",
       "I012    Tortillas rolled with chicken and mild chili s...  \n",
       "I013              Mashed chickpeas served with pita bread  \n",
       "I014             Layered pasta with meat sauce and cheese  \n",
       "I015             Thai style fried rice with basil and egg  "
      ]
     },
     "execution_count": 53,
     "metadata": {},
     "output_type": "execute_result"
    }
   ],
   "source": [
    "catalog_df"
   ]
  },
  {
   "cell_type": "code",
   "execution_count": 55,
   "id": "81b1226a",
   "metadata": {},
   "outputs": [],
   "source": [
    "catalog_df.to_csv('new_catalog.csv')"
   ]
  },
  {
   "cell_type": "code",
   "execution_count": null,
   "id": "d972b103",
   "metadata": {},
   "outputs": [],
   "source": []
  }
 ],
 "metadata": {
  "kernelspec": {
   "display_name": "catalog",
   "language": "python",
   "name": "python3"
  },
  "language_info": {
   "codemirror_mode": {
    "name": "ipython",
    "version": 3
   },
   "file_extension": ".py",
   "mimetype": "text/x-python",
   "name": "python",
   "nbconvert_exporter": "python",
   "pygments_lexer": "ipython3",
   "version": "3.13.7"
  }
 },
 "nbformat": 4,
 "nbformat_minor": 5
}
