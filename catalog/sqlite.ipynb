{
 "cells": [
  {
   "cell_type": "code",
   "execution_count": 1,
   "id": "34a479f5",
   "metadata": {},
   "outputs": [],
   "source": [
    "import sqlite3"
   ]
  },
  {
   "cell_type": "code",
   "execution_count": 2,
   "id": "0e1fbdc1",
   "metadata": {},
   "outputs": [],
   "source": [
    "connection = sqlite3.connect('catalog.db')"
   ]
  },
  {
   "cell_type": "code",
   "execution_count": null,
   "id": "9e61e1e1",
   "metadata": {},
   "outputs": [],
   "source": []
  }
 ],
 "metadata": {
  "kernelspec": {
   "display_name": "catalog",
   "language": "python",
   "name": "python3"
  },
  "language_info": {
   "codemirror_mode": {
    "name": "ipython",
    "version": 3
   },
   "file_extension": ".py",
   "mimetype": "text/x-python",
   "name": "python",
   "nbconvert_exporter": "python",
   "pygments_lexer": "ipython3",
   "version": "3.13.7"
  }
 },
 "nbformat": 4,
 "nbformat_minor": 5
}
