{
 "cells": [
  {
   "cell_type": "code",
   "execution_count": 2,
   "id": "d3910858",
   "metadata": {},
   "outputs": [],
   "source": [
    "import sqlite3"
   ]
  },
  {
   "cell_type": "code",
   "execution_count": 2,
   "id": "7a4b72f8",
   "metadata": {},
   "outputs": [],
   "source": [
    "connection = sqlite3.connect('catalog.db')"
   ]
  },
  {
   "cell_type": "code",
   "execution_count": 3,
   "id": "6ff8f076",
   "metadata": {},
   "outputs": [],
   "source": [
    "# Creating a table \"Book\"\n",
    "\n",
    "# CREATE TABLE Books \n",
    "# ( ID INT PRIMARY KEY, title VARCHAR(200) NOT NULL, \n",
    "# ISBN VARCHAR(20) UNIQUE, Department VARCHAR(50) );\n",
    "\n",
    "create_query = \"CREATE TABLE Books ( ID INTEGER PRIMARY KEY AUTOINCREMENT,  Title VARCHAR(255) NOT NULL, ISBN VARCHAR(20), Department VARCHAR(50) );\"\n"
   ]
  },
  {
   "cell_type": "code",
   "execution_count": 4,
   "id": "b50fd123",
   "metadata": {},
   "outputs": [],
   "source": [
    "with sqlite3.connect('catalog.db') as connection:\n",
    "    connection.execute(create_query)"
   ]
  },
  {
   "cell_type": "code",
   "execution_count": null,
   "id": "34fbcb34",
   "metadata": {},
   "outputs": [],
   "source": [
    "#Insert values into \"Books\" table\n",
    "\n",
    "Title = input(\"Enter the title of the book\")\n",
    "ISBN = input(\"Enter the ISBN of the book\")\n",
    "Department = input(\"Enter the department/subject of the book\")\n",
    "insert_query = f\"INSERT INTO Books (Title, ISBN, Department) VALUES ('{Title}', '{ISBN}', '{Department}');\"\n",
    "with sqlite3.connect('catalog.db') as connection:\n",
    "    connection.execute(insert_query)"
   ]
  },
  {
   "cell_type": "code",
   "execution_count": null,
   "id": "8df1079d",
   "metadata": {},
   "outputs": [],
   "source": [
    "# Display all books\n",
    "\n",
    "select_query = \"Select * from Books\"\n",
    "with sqlite3.connect('catalog.db') as connection:\n",
    "    cursor = connection.execute(select_query)\n",
    "    for book_record in cursor:\n",
    "        print(f\"ID = {book_record[0]}, Title = {book_record[1]}, ISBN = {book_record[2]}, Department = {book_record[3]}\")"
   ]
  },
  {
   "cell_type": "code",
   "execution_count": 38,
   "id": "85925fdf",
   "metadata": {},
   "outputs": [
    {
     "name": "stdout",
     "output_type": "stream",
     "text": [
      "select * from Books where Department = 'Machine Learning'\n",
      "ID = 18, Title = Pattern Recognition and Machine Learning, ISBN = 97-80184862264, Department = Machine Learning\n"
     ]
    }
   ],
   "source": [
    "# Display all books by Department\n",
    "\n",
    "Department = input('Enter the Department or Subject')\n",
    "select_query = f\"select * from Books where Department = '{Department}'\"\n",
    "print(select_query)\n",
    "with sqlite3.connect('catalog.db') as connection:\n",
    "    cursor = connection.execute(select_query)\n",
    "    for book_record in cursor:\n",
    "        print(f\"ID = {book_record[0]}, Title = {book_record[1]}, ISBN = {book_record[2]}, Department = {book_record[3]}\")"
   ]
  },
  {
   "cell_type": "code",
   "execution_count": 3,
   "id": "3b44b39c",
   "metadata": {},
   "outputs": [
    {
     "name": "stdout",
     "output_type": "stream",
     "text": [
      "select * from Books where Department = 'Artificial Intelligence'\n",
      "ID = 3, Title = Deep Learning with Python, ISBN = 97-81617294433, Department = Artificial Intelligence\n",
      "ID = 4, Title = Machine Learning Yearning, ISBN = 97-80999736411, Department = Artificial Intelligence\n",
      "ID = 19, Title = Practical Natural Language Processing, ISBN = 97-81641762098, Department = Artificial Intelligence\n"
     ]
    }
   ],
   "source": [
    "# Display all books by Department\n",
    "\n",
    "Department = input('Enter the Department or Subject')\n",
    "select_query = f\"select * from Books where Department = '{Department}'\"\n",
    "print(select_query)\n",
    "with sqlite3.connect('catalog.db') as connection:\n",
    "    cursor = connection.execute(select_query)\n",
    "    for book_record in cursor:\n",
    "        print(f\"ID = {book_record[0]}, Title = {book_record[1]}, ISBN = {book_record[2]}, Department = {book_record[3]}\")"
   ]
  },
  {
   "cell_type": "code",
   "execution_count": null,
   "id": "550196cd",
   "metadata": {},
   "outputs": [],
   "source": [
    "# Display all books by Department\n",
    "\n",
    "Department = input('Enter the Department or Subject')\n",
    "select_query = f\"select * from Books where Department = '{Department}'\"\n",
    "print(select_query)\n",
    "with sqlite3.connect('catalog.db') as connection:\n",
    "    cursor = connection.execute(select_query)\n",
    "    for book_record in cursor:\n",
    "        print(f\"ID = {book_record[0]}, Title = {book_record[1]}, ISBN = {book_record[2]}, Department = {book_record[3]}\")"
   ]
  },
  {
   "cell_type": "code",
   "execution_count": 7,
   "id": "25788d01",
   "metadata": {},
   "outputs": [
    {
     "name": "stdout",
     "output_type": "stream",
     "text": [
      "Select * from Books limit 7\n",
      "ID = 1, Title = Introduction to Algorithms, ISBN = 97-80262033848, Department = Computer Science\n",
      "ID = 2, Title = Database System Concepts, ISBN = 97-80078022159, Department = Computer Science\n",
      "ID = 3, Title = Deep Learning with Python, ISBN = 97-81617294433, Department = Artificial Intelligence\n",
      "ID = 4, Title = Machine Learning Yearning, ISBN = 97-80999736411, Department = Artificial Intelligence\n",
      "ID = 5, Title = A Handbook of Agile Software , ISBN = 97-80132350884, Department = Software Engineering\n",
      "ID = 6, Title = Data Science from Scratch, ISBN = 97-81492041139, Department = Data Science\n",
      "ID = 7, Title = Linear Algebra Done Right, ISBN = 97-83319110790, Department = Mathematics\n"
     ]
    }
   ],
   "source": [
    "# Display first 7 records\n",
    "\n",
    "select_query = \"Select * from Books limit 7\"\n",
    "with sqlite3.connect('catalog.db') as connection:\n",
    "    cursor = connection.execute(select_query)\n",
    "print(select_query)  \n",
    "\n",
    "for book_record in cursor:\n",
    "        print(f\"ID = {book_record[0]}, Title = {book_record[1]}, ISBN = {book_record[2]}, Department = {book_record[3]}\")"
   ]
  },
  {
   "cell_type": "code",
   "execution_count": null,
   "id": "31e6f745",
   "metadata": {},
   "outputs": [],
   "source": []
  }
 ],
 "metadata": {
  "kernelspec": {
   "display_name": "catalog",
   "language": "python",
   "name": "python3"
  },
  "language_info": {
   "codemirror_mode": {
    "name": "ipython",
    "version": 3
   },
   "file_extension": ".py",
   "mimetype": "text/x-python",
   "name": "python",
   "nbconvert_exporter": "python",
   "pygments_lexer": "ipython3",
   "version": "3.13.7"
  }
 },
 "nbformat": 4,
 "nbformat_minor": 5
}
