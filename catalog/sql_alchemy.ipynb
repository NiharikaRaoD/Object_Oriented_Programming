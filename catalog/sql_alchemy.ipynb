{
 "cells": [
  {
   "cell_type": "code",
   "execution_count": 7,
   "id": "1bdfbad5",
   "metadata": {},
   "outputs": [],
   "source": [
    "#engine\n",
    "#session\n",
    "#Base"
   ]
  },
  {
   "cell_type": "code",
   "execution_count": 8,
   "id": "d269e7c5",
   "metadata": {},
   "outputs": [],
   "source": [
    "from sqlalchemy.orm import DeclarativeBase"
   ]
  },
  {
   "cell_type": "code",
   "execution_count": null,
   "id": "216e1e62",
   "metadata": {},
   "outputs": [],
   "source": [
    "# Base - A registry which has all ORM modules\n",
    "\n",
    "class Base(DeclarativeBase):\n",
    "    \"\"\" Base class for all ORM models.\n",
    "\n",
    "    This class acts as the declarative base for SQLAlchemy ORM models.\n",
    "    All entity classes (tables) in the application should inherit from this\n",
    "    class to ensure consistent metadata and mapping behavior\n",
    "\n",
    "    \"\"\"\n",
    "\n",
    "    pass"
   ]
  },
  {
   "cell_type": "code",
   "execution_count": 10,
   "id": "378bb039",
   "metadata": {},
   "outputs": [],
   "source": [
    "from sqlalchemy.orm import Mapped\n",
    "from sqlalchemy.orm import mapped_column\n",
    "from sqlalchemy import String"
   ]
  },
  {
   "cell_type": "code",
   "execution_count": null,
   "id": "a3e398ab",
   "metadata": {},
   "outputs": [],
   "source": [
    "class Book(Base):\n",
    "\n",
    "    \"\"\"Represents a book record in the library database.\n",
    "\n",
    "    This class defines the ORM mapping for the `Books` table\n",
    "    Each instance corresponds to a single book entry with its\n",
    "    unique ID, Title, ISBN, and Department\n",
    "\n",
    "    Attributes:\n",
    "        ID (int): Unique identifier for the book (primary key)\n",
    "        Title (str): Title of the book\n",
    "        ISBN (str): International Standard Book Number\n",
    "        Department (str): Department or category the book belongs to\n",
    "    \"\"\"\n",
    "\n",
    "    # Table name in the database\n",
    "    __tablename__ = \"Books\"\n",
    "\n",
    "    # Define the columns in the table using Mapped (Python type) and mapped_column (DB-specific arguments) \n",
    "\n",
    "    ID: Mapped[int] = mapped_column(primary_key = True)\n",
    "    Title: Mapped[str] = mapped_column(String(255))\n",
    "    ISBN: Mapped[str] = mapped_column(String(20))\n",
    "    Department: Mapped[str] = mapped_column(String(50))"
   ]
  },
  {
   "cell_type": "code",
   "execution_count": 12,
   "id": "3311d9dd",
   "metadata": {},
   "outputs": [],
   "source": [
    "# Create Engine - created connections to databases\n",
    "\n",
    "from sqlalchemy import create_engine\n"
   ]
  },
  {
   "cell_type": "code",
   "execution_count": 13,
   "id": "5c79567b",
   "metadata": {},
   "outputs": [],
   "source": [
    "# Using an in-memory database for a quick example, or a file for persistence.\n",
    "# For a file: SQLALCHEMY_DATABASE_URL = \"sqlite:///example_20.db\"\n",
    "\n",
    "SQLALCHEMY_DATABASE_URL = \"sqlite:///sample.db\" \n",
    "engine = create_engine(\n",
    "    SQLALCHEMY_DATABASE_URL, \n",
    "    echo=True, # Logs all SQL statements to the console\n",
    "    connect_args={\"check_same_thread\": False} # Required for multithreading with SQLite\n",
    ")"
   ]
  },
  {
   "cell_type": "code",
   "execution_count": 14,
   "id": "b6a5ed40",
   "metadata": {},
   "outputs": [
    {
     "name": "stdout",
     "output_type": "stream",
     "text": [
      "Initializing database...\n",
      "2025-10-13 17:20:16,118 INFO sqlalchemy.engine.Engine BEGIN (implicit)\n",
      "2025-10-13 17:20:16,120 INFO sqlalchemy.engine.Engine PRAGMA main.table_info(\"Books\")\n",
      "2025-10-13 17:20:16,121 INFO sqlalchemy.engine.Engine [raw sql] ()\n",
      "2025-10-13 17:20:16,123 INFO sqlalchemy.engine.Engine PRAGMA temp.table_info(\"Books\")\n",
      "2025-10-13 17:20:16,125 INFO sqlalchemy.engine.Engine [raw sql] ()\n",
      "2025-10-13 17:20:16,128 INFO sqlalchemy.engine.Engine \n",
      "CREATE TABLE \"Books\" (\n",
      "\t\"ID\" INTEGER NOT NULL, \n",
      "\t\"Title\" VARCHAR(255) NOT NULL, \n",
      "\t\"ISBN\" VARCHAR(20) NOT NULL, \n",
      "\t\"Department\" VARCHAR(50) NOT NULL, \n",
      "\tPRIMARY KEY (\"ID\")\n",
      ")\n",
      "\n",
      "\n",
      "2025-10-13 17:20:16,129 INFO sqlalchemy.engine.Engine [no key 0.00091s] ()\n",
      "2025-10-13 17:20:16,139 INFO sqlalchemy.engine.Engine COMMIT\n"
     ]
    }
   ],
   "source": [
    "# --- 4. Create Tables using Base.metadata.create_all() ---\n",
    "if __name__ == \"__main__\":\n",
    "    print(\"Initializing database...\")\n",
    "\n",
    "    # This command inspects all models inherited from Base (in this case, 'User')\n",
    "    # and generates the DDL (CREATE TABLE statements) to create them in the database.\n",
    "    # It will not recreate tables that already exist.\n",
    "    \n",
    "    Base.metadata.create_all(engine)"
   ]
  },
  {
   "cell_type": "code",
   "execution_count": 16,
   "id": "22d0c5af",
   "metadata": {},
   "outputs": [],
   "source": [
    "from sqlalchemy.orm import sessionmaker"
   ]
  },
  {
   "cell_type": "code",
   "execution_count": 18,
   "id": "fa97c4dc",
   "metadata": {},
   "outputs": [],
   "source": [
    "# sessionmaker() returns a class; calling it creates a Session instance\n",
    "SessionLocal = sessionmaker(bind=engine)"
   ]
  },
  {
   "cell_type": "code",
   "execution_count": 19,
   "id": "3bc54dd9",
   "metadata": {},
   "outputs": [
    {
     "name": "stdout",
     "output_type": "stream",
     "text": [
      "2025-10-13 17:23:14,135 INFO sqlalchemy.engine.Engine BEGIN (implicit)\n",
      "2025-10-13 17:23:14,140 INFO sqlalchemy.engine.Engine INSERT INTO \"Books\" (\"Title\", \"ISBN\", \"Department\") VALUES (?, ?, ?) RETURNING \"ID\"\n",
      "2025-10-13 17:23:14,142 INFO sqlalchemy.engine.Engine [generated in 0.00024s (insertmanyvalues) 1/2 (ordered; batch not supported)] ('Deep Learning', '12-3456789012', 'AI')\n",
      "2025-10-13 17:23:14,144 INFO sqlalchemy.engine.Engine INSERT INTO \"Books\" (\"Title\", \"ISBN\", \"Department\") VALUES (?, ?, ?) RETURNING \"ID\"\n",
      "2025-10-13 17:23:14,146 INFO sqlalchemy.engine.Engine [insertmanyvalues 2/2 (ordered; batch not supported)] ('Data Science Handbook', '98-7654321098', 'DS')\n",
      "2025-10-13 17:23:14,149 INFO sqlalchemy.engine.Engine COMMIT\n"
     ]
    }
   ],
   "source": [
    "# Create a new session\n",
    "session = SessionLocal()\n",
    "\n",
    "# Create new Book records\n",
    "book1 = Book(Title=\"Deep Learning\", ISBN=\"12-3456789012\", Department=\"AI\")\n",
    "book2 = Book(Title=\"Data Science Handbook\", ISBN=\"98-7654321098\", Department=\"DS\")\n",
    "\n",
    "# Add records to the session\n",
    "session.add_all([book1, book2])\n",
    "\n",
    "# Commit the changes (writes to DB)\n",
    "session.commit()\n",
    "\n",
    "# Close the session\n",
    "session.close()\n"
   ]
  },
  {
   "cell_type": "code",
   "execution_count": 20,
   "id": "d2d76043",
   "metadata": {},
   "outputs": [
    {
     "name": "stdout",
     "output_type": "stream",
     "text": [
      "2025-10-13 17:23:44,679 INFO sqlalchemy.engine.Engine BEGIN (implicit)\n",
      "2025-10-13 17:23:44,682 INFO sqlalchemy.engine.Engine SELECT \"Books\".\"ID\" AS \"Books_ID\", \"Books\".\"Title\" AS \"Books_Title\", \"Books\".\"ISBN\" AS \"Books_ISBN\", \"Books\".\"Department\" AS \"Books_Department\" \n",
      "FROM \"Books\"\n",
      "2025-10-13 17:23:44,683 INFO sqlalchemy.engine.Engine [generated in 0.00070s] ()\n",
      "1 | Deep Learning | 12-3456789012 | AI\n",
      "2 | Data Science Handbook | 98-7654321098 | DS\n",
      "2025-10-13 17:23:44,686 INFO sqlalchemy.engine.Engine ROLLBACK\n"
     ]
    }
   ],
   "source": [
    "session = SessionLocal()\n",
    "\n",
    "# Fetch all books\n",
    "books = session.query(Book).all()\n",
    "\n",
    "for book in books:\n",
    "    print(f\"{book.ID} | {book.Title} | {book.ISBN} | {book.Department}\")\n",
    "\n",
    "session.close()\n"
   ]
  },
  {
   "cell_type": "code",
   "execution_count": null,
   "id": "14470b54",
   "metadata": {},
   "outputs": [],
   "source": []
  }
 ],
 "metadata": {
  "kernelspec": {
   "display_name": "catalog",
   "language": "python",
   "name": "python3"
  },
  "language_info": {
   "codemirror_mode": {
    "name": "ipython",
    "version": 3
   },
   "file_extension": ".py",
   "mimetype": "text/x-python",
   "name": "python",
   "nbconvert_exporter": "python",
   "pygments_lexer": "ipython3",
   "version": "3.13.7"
  }
 },
 "nbformat": 4,
 "nbformat_minor": 5
}
