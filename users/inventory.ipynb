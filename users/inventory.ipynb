{
 "cells": [
  {
   "cell_type": "code",
   "execution_count": 11,
   "id": "ec774bdf",
   "metadata": {},
   "outputs": [
    {
     "data": {
      "text/plain": [
       "True"
      ]
     },
     "execution_count": 11,
     "metadata": {},
     "output_type": "execute_result"
    }
   ],
   "source": [
    "from dotenv import load_dotenv\n",
    "import os\n",
    "load_dotenv()"
   ]
  },
  {
   "cell_type": "code",
   "execution_count": 12,
   "id": "e180365b",
   "metadata": {},
   "outputs": [],
   "source": [
    "INVENTORY_URL = os.getenv('INVENTORY_DB_URL', 'sqlite:///default.db')"
   ]
  },
  {
   "cell_type": "code",
   "execution_count": 13,
   "id": "c908416f",
   "metadata": {},
   "outputs": [],
   "source": [
    "from sqlalchemy import create_engine\n",
    "engine = create_engine(url=INVENTORY_URL, echo=True)"
   ]
  },
  {
   "cell_type": "code",
   "execution_count": 14,
   "id": "57625ab5",
   "metadata": {},
   "outputs": [],
   "source": [
    "from sqlalchemy.orm import DeclarativeBase\n",
    "\n",
    "class Base(DeclarativeBase):\n",
    "    pass"
   ]
  },
  {
   "cell_type": "code",
   "execution_count": 15,
   "id": "799b0ce9",
   "metadata": {},
   "outputs": [],
   "source": [
    "from sqlalchemy.orm import Mapped, mapped_column\n",
    "from sqlalchemy import Integer, String, Identity, DateTime, func"
   ]
  },
  {
   "cell_type": "code",
   "execution_count": 16,
   "id": "914a8d8d",
   "metadata": {},
   "outputs": [],
   "source": [
    "class IdentityMixin:\n",
    "    \"\"\"Mixin for adding a primary key ID column.\"\"\"\n",
    "    ID: Mapped[int] = mapped_column(\n",
    "        Integer, primary_key=True, autoincrement=True\n",
    "    )"
   ]
  },
  {
   "cell_type": "code",
   "execution_count": 17,
   "id": "b0905f23",
   "metadata": {},
   "outputs": [],
   "source": [
    "class TimestampMixin:\n",
    "    Created_Date: Mapped[DateTime] = mapped_column(\n",
    "        DateTime(timezone=True),\n",
    "        server_default=func.now(),\n",
    "        nullable=False\n",
    "    )\n",
    "\n",
    "    Last_Updated_Date: Mapped[DateTime] = mapped_column(\n",
    "        DateTime(timezone=True),\n",
    "        server_default=func.now(),\n",
    "        onupdate=func.now()\n",
    "    )"
   ]
  },
  {
   "cell_type": "code",
   "execution_count": 18,
   "id": "56947dae",
   "metadata": {},
   "outputs": [],
   "source": [
    "class Product(IdentityMixin, TimestampMixin, Base):\n",
    "    \"\"\"Represents a product record in the Products table.\n",
    "\n",
    "    Inherits:\n",
    "        IdentityMixin: Provides the primary key (ID) column.\n",
    "        TimestampMixin: Provides automatic Created_Date and Last_Updated_Date fields.\n",
    "\n",
    "    Attributes:\n",
    "        Prod_Name (str): Name of the product (required).\n",
    "        Prod_SKU (str | None): Stock Keeping Unit identifier, optional.\n",
    "    \"\"\"\n",
    "\n",
    "    __tablename__ = \"Products\"\n",
    "\n",
    "    Prod_Name: Mapped[str] = mapped_column(\n",
    "        String(100),\n",
    "        nullable=False\n",
    "    )\n",
    "\n",
    "    Prod_SKU: Mapped[str | None] = mapped_column(\n",
    "        String(100),\n",
    "        nullable=True\n",
    "    )"
   ]
  },
  {
   "cell_type": "code",
   "execution_count": 19,
   "id": "eb7f9650",
   "metadata": {},
   "outputs": [],
   "source": [
    "class Supplier(IdentityMixin, TimestampMixin, Base):\n",
    "    \"\"\"Represents a supplier record in the Suppliers table.\n",
    "\n",
    "    Inherits:\n",
    "        IdentityMixin: Provides the primary key (ID) column.\n",
    "        TimestampMixin: Provides CREATED_DATE and LAST_UPDATED_DATE audit fields.\n",
    "\n",
    "    Attributes:\n",
    "        Sup_Name (str): Supplier's business or company name.\n",
    "        Sup_Contact_Name (str): Contact person's full name.\n",
    "        Sup_Mobile (str): 10-digit mobile number of the supplier.\n",
    "        Sup_Email (str): Email address of the supplier.\n",
    "        Sup_Address (str): Physical or mailing address of the supplier.\n",
    "    \"\"\"\n",
    "\n",
    "    __tablename__ = \"Suppliers\"\n",
    "\n",
    "    Sup_Name: Mapped[str] = mapped_column(\n",
    "        String(100),\n",
    "        nullable=False\n",
    "    )\n",
    "\n",
    "    Sup_Contact_Name: Mapped[str] = mapped_column(\n",
    "        String(100),\n",
    "        nullable=False\n",
    "    )\n",
    "\n",
    "    Sup_Mobile: Mapped[str] = mapped_column(\n",
    "        String(10),\n",
    "        nullable=False\n",
    "    )\n",
    "\n",
    "    Sup_Email: Mapped[str] = mapped_column(\n",
    "        String(100),\n",
    "        nullable=False\n",
    "    )\n",
    "\n",
    "    Sup_Address: Mapped[str] = mapped_column(\n",
    "        String(256),\n",
    "        nullable=False\n",
    "    )\n"
   ]
  },
  {
   "cell_type": "code",
   "execution_count": 20,
   "id": "b3263ea5",
   "metadata": {},
   "outputs": [],
   "source": [
    "class Warehouse(IdentityMixin, TimestampMixin, Base):\n",
    "    \"\"\"Represents a warehouse record in the Warehouses table.\n",
    "\n",
    "    Inherits:\n",
    "        IdentityMixin: Provides a unique primary key (ID) column.\n",
    "        TimestampMixin: Provides CREATED_DATE and LAST_UPDATED_DATE audit columns.\n",
    "\n",
    "    Attributes:\n",
    "        WH_Name (str): The name of the warehouse.\n",
    "        WH_Location (str): The physical location or city of the warehouse.\n",
    "    \"\"\"\n",
    "\n",
    "    __tablename__ = \"Warehouses\"\n",
    "\n",
    "    WH_Name: Mapped[str] = mapped_column(\n",
    "        String(100),\n",
    "        nullable=False\n",
    "    )\n",
    "\n",
    "    WH_Location: Mapped[str] = mapped_column(\n",
    "        String(100),\n",
    "        nullable=False\n",
    "    )"
   ]
  },
  {
   "cell_type": "code",
   "execution_count": 21,
   "id": "6cde345e",
   "metadata": {},
   "outputs": [
    {
     "name": "stdout",
     "output_type": "stream",
     "text": [
      "2025-10-18 23:49:02,533 INFO sqlalchemy.engine.Engine BEGIN (implicit)\n",
      "2025-10-18 23:49:02,534 INFO sqlalchemy.engine.Engine PRAGMA main.table_info(\"Products\")\n",
      "2025-10-18 23:49:02,536 INFO sqlalchemy.engine.Engine [raw sql] ()\n",
      "2025-10-18 23:49:02,537 INFO sqlalchemy.engine.Engine PRAGMA temp.table_info(\"Products\")\n",
      "2025-10-18 23:49:02,538 INFO sqlalchemy.engine.Engine [raw sql] ()\n",
      "2025-10-18 23:49:02,540 INFO sqlalchemy.engine.Engine PRAGMA main.table_info(\"Suppliers\")\n",
      "2025-10-18 23:49:02,541 INFO sqlalchemy.engine.Engine [raw sql] ()\n",
      "2025-10-18 23:49:02,542 INFO sqlalchemy.engine.Engine PRAGMA temp.table_info(\"Suppliers\")\n",
      "2025-10-18 23:49:02,543 INFO sqlalchemy.engine.Engine [raw sql] ()\n",
      "2025-10-18 23:49:02,543 INFO sqlalchemy.engine.Engine PRAGMA main.table_info(\"Warehouses\")\n",
      "2025-10-18 23:49:02,544 INFO sqlalchemy.engine.Engine [raw sql] ()\n",
      "2025-10-18 23:49:02,546 INFO sqlalchemy.engine.Engine PRAGMA temp.table_info(\"Warehouses\")\n",
      "2025-10-18 23:49:02,547 INFO sqlalchemy.engine.Engine [raw sql] ()\n",
      "2025-10-18 23:49:02,548 INFO sqlalchemy.engine.Engine \n",
      "CREATE TABLE \"Products\" (\n",
      "\t\"Prod_Name\" VARCHAR(100) NOT NULL, \n",
      "\t\"Prod_SKU\" VARCHAR(100), \n",
      "\t\"ID\" INTEGER NOT NULL, \n",
      "\t\"Created_Date\" DATETIME DEFAULT CURRENT_TIMESTAMP NOT NULL, \n",
      "\t\"Last_Updated_Date\" DATETIME DEFAULT CURRENT_TIMESTAMP NOT NULL, \n",
      "\tPRIMARY KEY (\"ID\")\n",
      ")\n",
      "\n",
      "\n",
      "2025-10-18 23:49:02,549 INFO sqlalchemy.engine.Engine [no key 0.00085s] ()\n",
      "2025-10-18 23:49:02,562 INFO sqlalchemy.engine.Engine \n",
      "CREATE TABLE \"Suppliers\" (\n",
      "\t\"Sup_Name\" VARCHAR(100) NOT NULL, \n",
      "\t\"Sup_Contact_Name\" VARCHAR(100) NOT NULL, \n",
      "\t\"Sup_Mobile\" VARCHAR(10) NOT NULL, \n",
      "\t\"Sup_Email\" VARCHAR(100) NOT NULL, \n",
      "\t\"Sup_Address\" VARCHAR(256) NOT NULL, \n",
      "\t\"ID\" INTEGER NOT NULL, \n",
      "\t\"Created_Date\" DATETIME DEFAULT CURRENT_TIMESTAMP NOT NULL, \n",
      "\t\"Last_Updated_Date\" DATETIME DEFAULT CURRENT_TIMESTAMP NOT NULL, \n",
      "\tPRIMARY KEY (\"ID\")\n",
      ")\n",
      "\n",
      "\n",
      "2025-10-18 23:49:02,563 INFO sqlalchemy.engine.Engine [no key 0.00129s] ()\n",
      "2025-10-18 23:49:02,575 INFO sqlalchemy.engine.Engine \n",
      "CREATE TABLE \"Warehouses\" (\n",
      "\t\"WH_Name\" VARCHAR(100) NOT NULL, \n",
      "\t\"WH_Location\" VARCHAR(100) NOT NULL, \n",
      "\t\"ID\" INTEGER NOT NULL, \n",
      "\t\"Created_Date\" DATETIME DEFAULT CURRENT_TIMESTAMP NOT NULL, \n",
      "\t\"Last_Updated_Date\" DATETIME DEFAULT CURRENT_TIMESTAMP NOT NULL, \n",
      "\tPRIMARY KEY (\"ID\")\n",
      ")\n",
      "\n",
      "\n",
      "2025-10-18 23:49:02,576 INFO sqlalchemy.engine.Engine [no key 0.00105s] ()\n",
      "2025-10-18 23:49:02,582 INFO sqlalchemy.engine.Engine COMMIT\n"
     ]
    }
   ],
   "source": [
    "Base.metadata.create_all(engine)"
   ]
  },
  {
   "cell_type": "code",
   "execution_count": null,
   "id": "78747173",
   "metadata": {},
   "outputs": [],
   "source": []
  }
 ],
 "metadata": {
  "kernelspec": {
   "display_name": "users",
   "language": "python",
   "name": "python3"
  },
  "language_info": {
   "codemirror_mode": {
    "name": "ipython",
    "version": 3
   },
   "file_extension": ".py",
   "mimetype": "text/x-python",
   "name": "python",
   "nbconvert_exporter": "python",
   "pygments_lexer": "ipython3",
   "version": "3.13.7"
  }
 },
 "nbformat": 4,
 "nbformat_minor": 5
}
