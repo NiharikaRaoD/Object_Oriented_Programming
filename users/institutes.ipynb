{
 "cells": [
  {
   "cell_type": "code",
   "execution_count": 1,
   "id": "b8be36c6",
   "metadata": {},
   "outputs": [
    {
     "data": {
      "text/plain": [
       "' SQLAlchemy ORM demo for managing Institutes and Courses offerered .\\n\\nThis script demonstrates how to:\\n1. Load environment variables using python-dotenv.\\n2. Create an SQLite database connection using SQLAlchemy.\\n3. Define ORM models (`Institute`, `Course`) using DeclarativeBase.\\n4. Perform CRUD operations: Create, Read, Update, Delete.\\n\\n'"
      ]
     },
     "execution_count": 1,
     "metadata": {},
     "output_type": "execute_result"
    }
   ],
   "source": [
    "\"\"\" SQLAlchemy ORM demo for managing Institutes and Courses offerered .\n",
    "\n",
    "This script demonstrates how to:\n",
    "1. Load environment variables using python-dotenv.\n",
    "2. Create an SQLite database connection using SQLAlchemy.\n",
    "3. Define ORM models (`Institute`, `Course`) using DeclarativeBase.\n",
    "4. Perform CRUD operations: Create, Read, Update, Delete.\n",
    "\n",
    "\"\"\""
   ]
  },
  {
   "cell_type": "code",
   "execution_count": 2,
   "id": "01295a96",
   "metadata": {},
   "outputs": [
    {
     "data": {
      "text/plain": [
       "True"
      ]
     },
     "execution_count": 2,
     "metadata": {},
     "output_type": "execute_result"
    }
   ],
   "source": [
    "# Step 1: Load environment variables and configure database URL\n",
    "\n",
    "from dotenv import load_dotenv\n",
    "import os\n",
    "load_dotenv()"
   ]
  },
  {
   "cell_type": "code",
   "execution_count": 3,
   "id": "66f494d2",
   "metadata": {},
   "outputs": [],
   "source": [
    "INSTITUTE_URL = os.getenv('INSTITUTE_DB_URL', 'sqlite:///default.db')"
   ]
  },
  {
   "cell_type": "code",
   "execution_count": 4,
   "id": "b551c6bf",
   "metadata": {},
   "outputs": [
    {
     "name": "stdout",
     "output_type": "stream",
     "text": [
      "sqlite:///institute.db\n"
     ]
    }
   ],
   "source": [
    "print(INSTITUTE_URL)"
   ]
  },
  {
   "cell_type": "code",
   "execution_count": 5,
   "id": "b23e79e9",
   "metadata": {},
   "outputs": [],
   "source": [
    "# Step 2: Create a SQLAlchemy Engine instance.\n",
    "\n",
    "# The engine represents a connection to the database.\n",
    "# `echo=True` logs all SQL statements to the console for debugging.\n",
    "\n",
    "from sqlalchemy import create_engine\n",
    "engine = create_engine(url = INSTITUTE_URL, echo = True)\n",
    "#pool = 5"
   ]
  },
  {
   "cell_type": "code",
   "execution_count": 6,
   "id": "fbec250a",
   "metadata": {},
   "outputs": [],
   "source": [
    "# Step 3: Define a Declarative Base class.\n",
    "\n",
    "# This base class acts as the foundation for all ORM models.\n",
    "# All ORM entity classes should inherit from this to ensure consistent metadata and mapping behavior.\n",
    "\n",
    "from sqlalchemy.orm import DeclarativeBase\n",
    "\n",
    "class Base(DeclarativeBase):\n",
    "    \"\"\" Declarative Base class for all ORM models.\"\"\"\n",
    "    pass"
   ]
  },
  {
   "cell_type": "code",
   "execution_count": 7,
   "id": "da6553fb",
   "metadata": {},
   "outputs": [],
   "source": [
    "# Step 4: Define ORM Models — User and Contact tables\n",
    "\n",
    "from sqlalchemy.orm import Mapped, mapped_column\n",
    "from sqlalchemy import String"
   ]
  },
  {
   "cell_type": "code",
   "execution_count": 8,
   "id": "2a52a83e",
   "metadata": {},
   "outputs": [],
   "source": [
    "class Institute(Base):\n",
    "    \"\"\"Represents an institute record in the Institutes table.\n",
    "\n",
    "    Attributes:\n",
    "        Institute_ID (int): Primary key and unique identifier for each institute.\n",
    "        Institute_Name (str): The institute's name, must be unique.\n",
    "    \"\"\"\n",
    "\n",
    "    # Table name in the database\n",
    "    __tablename__ = \"Institutes\"\n",
    "\n",
    "    Institute_ID: Mapped[int] = mapped_column(primary_key=True)\n",
    "    Institute_Name: Mapped[str] = mapped_column(String(75), unique=True)"
   ]
  },
  {
   "cell_type": "code",
   "execution_count": 9,
   "id": "4cde3955",
   "metadata": {},
   "outputs": [],
   "source": [
    "class Course(Base):\n",
    "    \"\"\"Represents a Course  record in the Courses table.\n",
    "\n",
    "    Attributes:\n",
    "        Course_ID (int): Primary key and unique identifier for each course.\n",
    "        Course_Name (str): The course's name, must be unique.\n",
    "    \"\"\"\n",
    "\n",
    "    # Table name in the database\n",
    "    __tablename__ = \"Courses\"\n",
    "\n",
    "    Course_ID: Mapped[int] = mapped_column(primary_key=True)\n",
    "    Course_Name: Mapped[str] = mapped_column(String(75), unique=True)\n",
    "    Description: Mapped[str] = mapped_column(String(256))"
   ]
  },
  {
   "cell_type": "code",
   "execution_count": 10,
   "id": "be85d238",
   "metadata": {},
   "outputs": [
    {
     "name": "stdout",
     "output_type": "stream",
     "text": [
      "2025-10-18 21:13:27,944 INFO sqlalchemy.engine.Engine BEGIN (implicit)\n",
      "2025-10-18 21:13:27,945 INFO sqlalchemy.engine.Engine PRAGMA main.table_info(\"Institutes\")\n",
      "2025-10-18 21:13:27,946 INFO sqlalchemy.engine.Engine [raw sql] ()\n",
      "2025-10-18 21:13:27,947 INFO sqlalchemy.engine.Engine PRAGMA temp.table_info(\"Institutes\")\n",
      "2025-10-18 21:13:27,947 INFO sqlalchemy.engine.Engine [raw sql] ()\n",
      "2025-10-18 21:13:27,948 INFO sqlalchemy.engine.Engine PRAGMA main.table_info(\"Courses\")\n",
      "2025-10-18 21:13:27,949 INFO sqlalchemy.engine.Engine [raw sql] ()\n",
      "2025-10-18 21:13:27,950 INFO sqlalchemy.engine.Engine PRAGMA temp.table_info(\"Courses\")\n",
      "2025-10-18 21:13:27,952 INFO sqlalchemy.engine.Engine [raw sql] ()\n",
      "2025-10-18 21:13:27,954 INFO sqlalchemy.engine.Engine \n",
      "CREATE TABLE \"Institutes\" (\n",
      "\t\"Institute_ID\" INTEGER NOT NULL, \n",
      "\t\"Institute_Name\" VARCHAR(75) NOT NULL, \n",
      "\tPRIMARY KEY (\"Institute_ID\"), \n",
      "\tUNIQUE (\"Institute_Name\")\n",
      ")\n",
      "\n",
      "\n",
      "2025-10-18 21:13:27,955 INFO sqlalchemy.engine.Engine [no key 0.00069s] ()\n",
      "2025-10-18 21:13:27,967 INFO sqlalchemy.engine.Engine \n",
      "CREATE TABLE \"Courses\" (\n",
      "\t\"Course_ID\" INTEGER NOT NULL, \n",
      "\t\"Course_Name\" VARCHAR(75) NOT NULL, \n",
      "\t\"Description\" VARCHAR(256) NOT NULL, \n",
      "\tPRIMARY KEY (\"Course_ID\"), \n",
      "\tUNIQUE (\"Course_Name\")\n",
      ")\n",
      "\n",
      "\n",
      "2025-10-18 21:13:27,968 INFO sqlalchemy.engine.Engine [no key 0.00146s] ()\n",
      "2025-10-18 21:13:27,976 INFO sqlalchemy.engine.Engine COMMIT\n"
     ]
    }
   ],
   "source": [
    "# Step 5: Create database tables.\n",
    "# This will generate the physical tables (`Users` and `Contacts`) in the SQLite database if they do not already exist.\n",
    "\n",
    "Base.metadata.create_all(engine)"
   ]
  },
  {
   "cell_type": "code",
   "execution_count": 11,
   "id": "0b11c9f3",
   "metadata": {},
   "outputs": [],
   "source": [
    "# Step 6: Configure sessionmaker for ORM transactions.\n",
    "# Session acts as the interface between the Python objects and the database for performing CRUD operations.\n",
    "\n",
    "# sessionmaker() returns a class; calling it creates a Session instance\n",
    "from sqlalchemy.orm import sessionmaker\n",
    "\n",
    "# Create a sessionmaker bound to the engine and perform CRUD operations\n",
    "Session = sessionmaker(bind=engine)"
   ]
  },
  {
   "cell_type": "code",
   "execution_count": null,
   "id": "a62a04cb",
   "metadata": {},
   "outputs": [
    {
     "name": "stdout",
     "output_type": "stream",
     "text": [
      "2025-10-18 21:13:37,842 INFO sqlalchemy.engine.Engine BEGIN (implicit)\n",
      "2025-10-18 21:13:37,844 INFO sqlalchemy.engine.Engine INSERT INTO \"Institutes\" (\"Institute_ID\", \"Institute_Name\") VALUES (?, ?)\n",
      "2025-10-18 21:13:37,845 INFO sqlalchemy.engine.Engine [generated in 0.00127s] [(1, 'Stanford University'), (2, 'Massachusetts Institute of Technology'), (3, 'Harvard University'), (4, 'California Institute of Technology'), (5, 'University of California, Berkeley'), (6, 'Princeton University'), (7, 'Columbia University'), (8, 'Yale University'), (9, 'Cornell University'), (10, 'University of Chicago')]\n",
      "2025-10-18 21:13:37,849 INFO sqlalchemy.engine.Engine COMMIT\n"
     ]
    }
   ],
   "source": [
    "# Insert sample institutes records into the Institutes table.\n",
    "\n",
    "with Session() as session:\n",
    "    institutes = [\n",
    "        Institute(Institute_ID=1, Institute_Name='Stanford University'),\n",
    "        Institute(Institute_ID=2, Institute_Name='Massachusetts Institute of Technology'),\n",
    "        Institute(Institute_ID=3, Institute_Name='Harvard University'),\n",
    "        Institute(Institute_ID=4, Institute_Name='California Institute of Technology'),\n",
    "        Institute(Institute_ID=5, Institute_Name='University of California, Berkeley'),\n",
    "        Institute(Institute_ID=6, Institute_Name='Princeton University'),\n",
    "        Institute(Institute_ID=7, Institute_Name='Columbia University'),\n",
    "        Institute(Institute_ID=8, Institute_Name='Yale University'),\n",
    "        Institute(Institute_ID=9, Institute_Name='Cornell University'),\n",
    "        Institute(Institute_ID=10, Institute_Name='University of Chicago')\n",
    "    ]\n",
    "\n",
    "    session.add_all(institutes)\n",
    "    session.commit()"
   ]
  },
  {
   "cell_type": "code",
   "execution_count": null,
   "id": "8fe6434a",
   "metadata": {},
   "outputs": [
    {
     "name": "stdout",
     "output_type": "stream",
     "text": [
      "2025-10-18 21:13:39,012 INFO sqlalchemy.engine.Engine BEGIN (implicit)\n",
      "2025-10-18 21:13:39,014 INFO sqlalchemy.engine.Engine INSERT INTO \"Courses\" (\"Course_ID\", \"Course_Name\", \"Description\") VALUES (?, ?, ?)\n",
      "2025-10-18 21:13:39,015 INFO sqlalchemy.engine.Engine [generated in 0.00082s] [(1, 'Computer Science', 'Core principles of computing, programming, and algorithms.'), (2, 'Data Science', 'Data analysis, machine learning, and statistical modeling.'), (3, 'Artificial Intelligence', 'AI fundamentals including neural networks and natural language processing.'), (4, 'Electrical Engineering', 'Circuit theory, electronics, and signal processing.'), (5, 'Mechanical Engineering', 'Dynamics, thermodynamics, and materials science.'), (6, 'Civil Engineering', 'Structural design, construction management, and surveying.'), (7, 'Business Administration', 'Management, marketing, and organizational behavior.'), (8, 'Economics', 'Microeconomics, macroeconomics, and econometrics.'), (9, 'Mathematics', 'Advanced calculus, algebra, and applied statistics.'), (10, 'Cybersecurity', 'Network security, cryptography, and ethical hacking.')]\n",
      "2025-10-18 21:13:39,018 INFO sqlalchemy.engine.Engine COMMIT\n"
     ]
    }
   ],
   "source": [
    "# Insert sample courses records into the Courses table.\n",
    "\n",
    "with Session() as session:\n",
    "    courses = [\n",
    "        Course(Course_ID=1, Course_Name='Computer Science', Description='Core principles of computing, programming, and algorithms.'),\n",
    "        Course(Course_ID=2, Course_Name='Data Science', Description='Data analysis, machine learning, and statistical modeling.'),\n",
    "        Course(Course_ID=3, Course_Name='Artificial Intelligence', Description='AI fundamentals including neural networks and natural language processing.'),\n",
    "        Course(Course_ID=4, Course_Name='Electrical Engineering', Description='Circuit theory, electronics, and signal processing.'),\n",
    "        Course(Course_ID=5, Course_Name='Mechanical Engineering', Description='Dynamics, thermodynamics, and materials science.'),\n",
    "        Course(Course_ID=6, Course_Name='Civil Engineering', Description='Structural design, construction management, and surveying.'),\n",
    "        Course(Course_ID=7, Course_Name='Business Administration', Description='Management, marketing, and organizational behavior.'),\n",
    "        Course(Course_ID=8, Course_Name='Economics', Description='Microeconomics, macroeconomics, and econometrics.'),\n",
    "        Course(Course_ID=9, Course_Name='Mathematics', Description='Advanced calculus, algebra, and applied statistics.'),\n",
    "        Course(Course_ID=10, Course_Name='Cybersecurity', Description='Network security, cryptography, and ethical hacking.')\n",
    "    ]\n",
    "\n",
    "    session.add_all(courses)\n",
    "    session.commit()"
   ]
  },
  {
   "cell_type": "code",
   "execution_count": 14,
   "id": "cd3088d2",
   "metadata": {},
   "outputs": [
    {
     "name": "stdout",
     "output_type": "stream",
     "text": [
      "2025-10-18 21:19:30,749 INFO sqlalchemy.engine.Engine BEGIN (implicit)\n",
      "2025-10-18 21:19:30,751 INFO sqlalchemy.engine.Engine SELECT \"Institutes\".\"Institute_ID\" AS \"Institutes_Institute_ID\", \"Institutes\".\"Institute_Name\" AS \"Institutes_Institute_Name\" \n",
      "FROM \"Institutes\"\n",
      "2025-10-18 21:19:30,752 INFO sqlalchemy.engine.Engine [generated in 0.00083s] ()\n",
      "1 Stanford University\n",
      "2 Massachusetts Institute of Technology\n",
      "3 Harvard University\n",
      "4 California Institute of Technology\n",
      "5 University of California, Berkeley\n",
      "6 Princeton University\n",
      "7 Columbia University\n",
      "8 Yale University\n",
      "9 Cornell University\n",
      "10 University of Chicago\n",
      "2025-10-18 21:19:30,754 INFO sqlalchemy.engine.Engine ROLLBACK\n"
     ]
    }
   ],
   "source": [
    "# Retrieve all institues records from the Institutes table\n",
    "# Get all user records - .all() with query gives all records\n",
    "\n",
    "with Session() as session:\n",
    "    for inst in session.query(Institute).all():\n",
    "        print(inst.Institute_ID, inst.Institute_Name)"
   ]
  },
  {
   "cell_type": "code",
   "execution_count": 15,
   "id": "523af4c0",
   "metadata": {},
   "outputs": [
    {
     "name": "stdout",
     "output_type": "stream",
     "text": [
      "2025-10-18 21:19:31,951 INFO sqlalchemy.engine.Engine BEGIN (implicit)\n",
      "2025-10-18 21:19:31,954 INFO sqlalchemy.engine.Engine SELECT \"Courses\".\"Course_ID\" AS \"Courses_Course_ID\", \"Courses\".\"Course_Name\" AS \"Courses_Course_Name\", \"Courses\".\"Description\" AS \"Courses_Description\" \n",
      "FROM \"Courses\"\n",
      "2025-10-18 21:19:31,955 INFO sqlalchemy.engine.Engine [generated in 0.00130s] ()\n",
      "1 Computer Science Core principles of computing, programming, and algorithms.\n",
      "2 Data Science Data analysis, machine learning, and statistical modeling.\n",
      "3 Artificial Intelligence AI fundamentals including neural networks and natural language processing.\n",
      "4 Electrical Engineering Circuit theory, electronics, and signal processing.\n",
      "5 Mechanical Engineering Dynamics, thermodynamics, and materials science.\n",
      "6 Civil Engineering Structural design, construction management, and surveying.\n",
      "7 Business Administration Management, marketing, and organizational behavior.\n",
      "8 Economics Microeconomics, macroeconomics, and econometrics.\n",
      "9 Mathematics Advanced calculus, algebra, and applied statistics.\n",
      "10 Cybersecurity Network security, cryptography, and ethical hacking.\n",
      "2025-10-18 21:19:31,957 INFO sqlalchemy.engine.Engine ROLLBACK\n"
     ]
    }
   ],
   "source": [
    "# Retrieve all courses records from the Courses table\n",
    "# Get all user records - .all() with query gives all records\n",
    "\n",
    "with Session() as session:\n",
    "    for crs in session.query(Course).all():\n",
    "        print(crs.Course_ID, crs.Course_Name, crs.Description)"
   ]
  },
  {
   "cell_type": "code",
   "execution_count": null,
   "id": "c0ddff8b",
   "metadata": {},
   "outputs": [],
   "source": []
  }
 ],
 "metadata": {
  "kernelspec": {
   "display_name": "users",
   "language": "python",
   "name": "python3"
  },
  "language_info": {
   "codemirror_mode": {
    "name": "ipython",
    "version": 3
   },
   "file_extension": ".py",
   "mimetype": "text/x-python",
   "name": "python",
   "nbconvert_exporter": "python",
   "pygments_lexer": "ipython3",
   "version": "3.13.7"
  }
 },
 "nbformat": 4,
 "nbformat_minor": 5
}
