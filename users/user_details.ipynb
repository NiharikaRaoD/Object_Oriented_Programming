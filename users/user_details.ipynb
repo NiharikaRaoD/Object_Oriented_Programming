{
 "cells": [
  {
   "cell_type": "code",
   "execution_count": 17,
   "id": "eec957f6",
   "metadata": {},
   "outputs": [
    {
     "data": {
      "text/plain": [
       "'SQLAlchemy ORM demo for managing Users and Contacts.\\n\\nThis script demonstrates how to:\\n1. Load environment variables using python-dotenv.\\n2. Create an SQLite database connection using SQLAlchemy.\\n3. Define ORM models (`User`, `Contact`) using DeclarativeBase.\\n4. Perform CRUD operations: Create, Read, Update, Delete.\\n5. Drop tables when required.\\n\\n'"
      ]
     },
     "execution_count": 17,
     "metadata": {},
     "output_type": "execute_result"
    }
   ],
   "source": [
    "\"\"\"SQLAlchemy ORM demo for managing Users and Contacts.\n",
    "\n",
    "This script demonstrates how to:\n",
    "1. Load environment variables using python-dotenv.\n",
    "2. Create an SQLite database connection using SQLAlchemy.\n",
    "3. Define ORM models (`User`, `Contact`) using DeclarativeBase.\n",
    "4. Perform CRUD operations: Create, Read, Update, Delete.\n",
    "5. Drop tables when required.\n",
    "\n",
    "\"\"\""
   ]
  },
  {
   "cell_type": "code",
   "execution_count": 18,
   "id": "6df7cc13",
   "metadata": {},
   "outputs": [],
   "source": [
    "# Step 1: Load environment variables and configure database URL\n",
    "\n",
    "from dotenv import load_dotenv\n",
    "import os"
   ]
  },
  {
   "cell_type": "code",
   "execution_count": 19,
   "id": "1c1938b5",
   "metadata": {},
   "outputs": [
    {
     "data": {
      "text/plain": [
       "True"
      ]
     },
     "execution_count": 19,
     "metadata": {},
     "output_type": "execute_result"
    }
   ],
   "source": [
    "load_dotenv()"
   ]
  },
  {
   "cell_type": "code",
   "execution_count": 20,
   "id": "d6dfaa4c",
   "metadata": {},
   "outputs": [],
   "source": [
    "USERDETAILS_URL = os.getenv('USERDETAILS_DB_URL', 'sqlite:///default.db')"
   ]
  },
  {
   "cell_type": "code",
   "execution_count": 21,
   "id": "9f5436e1",
   "metadata": {},
   "outputs": [
    {
     "name": "stdout",
     "output_type": "stream",
     "text": [
      "sqlite:///user_details.db\n"
     ]
    }
   ],
   "source": [
    "print(USERDETAILS_URL)"
   ]
  },
  {
   "cell_type": "code",
   "execution_count": 22,
   "id": "c05b92d5",
   "metadata": {},
   "outputs": [],
   "source": [
    "# Step 2: Create a SQLAlchemy Engine instance.\n",
    "\n",
    "# The engine represents a connection to the database.\n",
    "# `echo=True` logs all SQL statements to the console for debugging.\n",
    "\n",
    "from sqlalchemy import create_engine\n",
    "engine = create_engine(url = USERDETAILS_URL, echo = True)\n",
    "#pool = 5"
   ]
  },
  {
   "cell_type": "code",
   "execution_count": 23,
   "id": "966144c1",
   "metadata": {},
   "outputs": [],
   "source": [
    "# Step 3: Define a Declarative Base class.\n",
    "\n",
    "# This base class acts as the foundation for all ORM models.\n",
    "# All ORM entity classes should inherit from this to ensure consistent metadata and mapping behavior.\n",
    "\n",
    "from sqlalchemy.orm import DeclarativeBase\n",
    "\n",
    "class Base(DeclarativeBase):\n",
    "    \"\"\" Declarative Base class for all ORM models.\"\"\"\n",
    "    pass"
   ]
  },
  {
   "cell_type": "code",
   "execution_count": 24,
   "id": "fd94abe6",
   "metadata": {},
   "outputs": [],
   "source": [
    "# Step 4: Define ORM Models — User and Contact tables\n",
    "\n",
    "from sqlalchemy.orm import Mapped, mapped_column\n",
    "from sqlalchemy import String"
   ]
  },
  {
   "cell_type": "code",
   "execution_count": 25,
   "id": "140891eb",
   "metadata": {},
   "outputs": [],
   "source": [
    "class User(Base):\n",
    "    \"\"\"Represents a user record in the Users table.\n",
    "\n",
    "    Attributes:\n",
    "        User_ID (int): Primary key and unique identifier for each user.\n",
    "        User_Name (str): The user's name, must be unique.\n",
    "    \"\"\"\n",
    "\n",
    "    # Table name in the database\n",
    "    __tablename__ = \"Users\"\n",
    "\n",
    "    # Define the columns in the table using Mapped (Python type) and mapped_column (DB-specific arguments)\n",
    "    User_ID: Mapped[int] = mapped_column(primary_key=True)\n",
    "    User_Name: Mapped[str] = mapped_column(String(30), unique=True)"
   ]
  },
  {
   "cell_type": "code",
   "execution_count": 26,
   "id": "57250747",
   "metadata": {},
   "outputs": [],
   "source": [
    "class Contact(Base):\n",
    "    \"\"\"Represents a contact record in the Contacts table.\n",
    "\n",
    "    Attributes:\n",
    "        ID (int): Primary key for each contact record.\n",
    "        Email (str): User's email address.\n",
    "        Mobile (str): 10-digit user mobile number.\n",
    "    \"\"\"\n",
    "\n",
    "    # Table name in the database\n",
    "    __tablename__ = \"Contacts\"\n",
    "\n",
    "    # Define the columns in the table using Mapped (Python type) and mapped_column (DB-specific arguments)\n",
    "    ID: Mapped[int] = mapped_column(primary_key=True)\n",
    "    Email: Mapped[str] = mapped_column(String(100))\n",
    "    Mobile: Mapped[str] = mapped_column(String(15))"
   ]
  },
  {
   "cell_type": "code",
   "execution_count": 27,
   "id": "e6ada267",
   "metadata": {},
   "outputs": [
    {
     "name": "stdout",
     "output_type": "stream",
     "text": [
      "2025-10-18 15:19:41,348 INFO sqlalchemy.engine.Engine BEGIN (implicit)\n",
      "2025-10-18 15:19:41,350 INFO sqlalchemy.engine.Engine PRAGMA main.table_info(\"Users\")\n",
      "2025-10-18 15:19:41,351 INFO sqlalchemy.engine.Engine [raw sql] ()\n",
      "2025-10-18 15:19:41,353 INFO sqlalchemy.engine.Engine PRAGMA temp.table_info(\"Users\")\n",
      "2025-10-18 15:19:41,354 INFO sqlalchemy.engine.Engine [raw sql] ()\n",
      "2025-10-18 15:19:41,356 INFO sqlalchemy.engine.Engine PRAGMA main.table_info(\"Contacts\")\n",
      "2025-10-18 15:19:41,357 INFO sqlalchemy.engine.Engine [raw sql] ()\n",
      "2025-10-18 15:19:41,358 INFO sqlalchemy.engine.Engine PRAGMA temp.table_info(\"Contacts\")\n",
      "2025-10-18 15:19:41,359 INFO sqlalchemy.engine.Engine [raw sql] ()\n",
      "2025-10-18 15:19:41,360 INFO sqlalchemy.engine.Engine \n",
      "CREATE TABLE \"Users\" (\n",
      "\t\"User_ID\" INTEGER NOT NULL, \n",
      "\t\"User_Name\" VARCHAR(30) NOT NULL, \n",
      "\tPRIMARY KEY (\"User_ID\"), \n",
      "\tUNIQUE (\"User_Name\")\n",
      ")\n",
      "\n",
      "\n",
      "2025-10-18 15:19:41,361 INFO sqlalchemy.engine.Engine [no key 0.00115s] ()\n",
      "2025-10-18 15:19:41,368 INFO sqlalchemy.engine.Engine \n",
      "CREATE TABLE \"Contacts\" (\n",
      "\t\"ID\" INTEGER NOT NULL, \n",
      "\t\"Email\" VARCHAR(100) NOT NULL, \n",
      "\t\"Mobile\" VARCHAR(15) NOT NULL, \n",
      "\tPRIMARY KEY (\"ID\")\n",
      ")\n",
      "\n",
      "\n",
      "2025-10-18 15:19:41,370 INFO sqlalchemy.engine.Engine [no key 0.00148s] ()\n",
      "2025-10-18 15:19:41,378 INFO sqlalchemy.engine.Engine COMMIT\n"
     ]
    }
   ],
   "source": [
    "# Step 5: Create database tables.\n",
    "# This will generate the physical tables (`Users` and `Contacts`) in the SQLite database if they do not already exist.\n",
    "\n",
    "Base.metadata.create_all(engine)"
   ]
  },
  {
   "cell_type": "code",
   "execution_count": 28,
   "id": "34c6d19a",
   "metadata": {},
   "outputs": [],
   "source": [
    "# Step 6: Configure sessionmaker for ORM transactions.\n",
    "# Session acts as the interface between the Python objects and the database for performing CRUD operations.\n",
    "\n",
    "# sessionmaker() returns a class; calling it creates a Session instance\n",
    "from sqlalchemy.orm import sessionmaker\n",
    "\n",
    "# Create a sessionmaker bound to the engine and perform CRUD operations\n",
    "Session = sessionmaker(bind=engine)"
   ]
  },
  {
   "cell_type": "code",
   "execution_count": 29,
   "id": "8915faa3",
   "metadata": {},
   "outputs": [
    {
     "name": "stdout",
     "output_type": "stream",
     "text": [
      "2025-10-18 15:19:41,484 INFO sqlalchemy.engine.Engine BEGIN (implicit)\n",
      "2025-10-18 15:19:41,489 INFO sqlalchemy.engine.Engine INSERT INTO \"Users\" (\"User_ID\", \"User_Name\") VALUES (?, ?)\n",
      "2025-10-18 15:19:41,491 INFO sqlalchemy.engine.Engine [generated in 0.00164s] [(1, 'Alice'), (2, 'Bob'), (3, 'Charlie'), (4, 'David'), (5, 'Eve'), (6, 'Frank'), (7, 'Grace'), (8, 'Heidi'), (9, 'Ivan'), (10, 'Judy')]\n",
      "2025-10-18 15:19:41,494 INFO sqlalchemy.engine.Engine COMMIT\n"
     ]
    }
   ],
   "source": [
    "# Insert sample user records into the Users table.\n",
    "\n",
    "with Session() as session:\n",
    "    users = [\n",
    "        User(User_ID=1, User_Name='Alice'),\n",
    "        User(User_ID=2, User_Name='Bob'),\n",
    "        User(User_ID=3, User_Name='Charlie'),\n",
    "        User(User_ID=4, User_Name='David'),\n",
    "        User(User_ID=5, User_Name='Eve'),\n",
    "        User(User_ID=6, User_Name='Frank'),\n",
    "        User(User_ID=7, User_Name='Grace'),\n",
    "        User(User_ID=8, User_Name='Heidi'),\n",
    "        User(User_ID=9, User_Name='Ivan'),\n",
    "        User(User_ID=10, User_Name='Judy')\n",
    "    ]\n",
    "    session.add_all(users)\n",
    "    session.commit()\n"
   ]
  },
  {
   "cell_type": "code",
   "execution_count": 30,
   "id": "fa1466d2",
   "metadata": {},
   "outputs": [
    {
     "name": "stdout",
     "output_type": "stream",
     "text": [
      "2025-10-18 15:19:41,529 INFO sqlalchemy.engine.Engine BEGIN (implicit)\n",
      "2025-10-18 15:19:41,531 INFO sqlalchemy.engine.Engine INSERT INTO \"Contacts\" (\"ID\", \"Email\", \"Mobile\") VALUES (?, ?, ?)\n",
      "2025-10-18 15:19:41,533 INFO sqlalchemy.engine.Engine [generated in 0.00158s] [(1, 'alice@gmail.com', '2025550101'), (2, 'bob@outlook.com', '2025550102'), (3, 'charlie@gmail.com', '2025550103'), (4, 'david@outlook.com', '2025550104'), (5, 'eve@gmail.com', '2025550105'), (6, 'frank@outlook.com', '2025550106'), (7, 'grace@gmail.com', '2025550107'), (8, 'heidi@outlook.com', '2025550108'), (9, 'ivan@gmail.com', '2025550109'), (10, 'judy@outlook.com', '2025550110')]\n",
      "2025-10-18 15:19:41,537 INFO sqlalchemy.engine.Engine COMMIT\n"
     ]
    }
   ],
   "source": [
    "# Insert sample contact records into the Contacts table.\n",
    "\n",
    "with Session() as session:\n",
    "    contacts = [\n",
    "        Contact(ID=1,  Email='alice@gmail.com',    Mobile='2025550101'),\n",
    "        Contact(ID=2,  Email='bob@outlook.com',    Mobile='2025550102'),\n",
    "        Contact(ID=3,  Email='charlie@gmail.com',  Mobile='2025550103'),\n",
    "        Contact(ID=4,  Email='david@outlook.com',  Mobile='2025550104'),\n",
    "        Contact(ID=5,  Email='eve@gmail.com',      Mobile='2025550105'),\n",
    "        Contact(ID=6,  Email='frank@outlook.com',  Mobile='2025550106'),\n",
    "        Contact(ID=7,  Email='grace@gmail.com',    Mobile='2025550107'),\n",
    "        Contact(ID=8,  Email='heidi@outlook.com',  Mobile='2025550108'),\n",
    "        Contact(ID=9,  Email='ivan@gmail.com',     Mobile='2025550109'),\n",
    "        Contact(ID=10, Email='judy@outlook.com',   Mobile='2025550110')\n",
    "    ]\n",
    "    session.add_all(contacts)\n",
    "    session.commit()"
   ]
  },
  {
   "cell_type": "code",
   "execution_count": 31,
   "id": "f9e8e526",
   "metadata": {},
   "outputs": [
    {
     "name": "stdout",
     "output_type": "stream",
     "text": [
      "2025-10-18 15:19:41,555 INFO sqlalchemy.engine.Engine BEGIN (implicit)\n",
      "2025-10-18 15:19:41,559 INFO sqlalchemy.engine.Engine SELECT \"Users\".\"User_ID\" AS \"Users_User_ID\", \"Users\".\"User_Name\" AS \"Users_User_Name\" \n",
      "FROM \"Users\" \n",
      "WHERE \"Users\".\"User_ID\" = ?\n",
      "2025-10-18 15:19:41,561 INFO sqlalchemy.engine.Engine [generated in 0.00134s] (1,)\n",
      "<__main__.User object at 0x000001C950C58140>\n",
      "2025-10-18 15:19:41,563 INFO sqlalchemy.engine.Engine ROLLBACK\n"
     ]
    }
   ],
   "source": [
    "# Retrieve User Details\n",
    "# Single user record - .get() gets only the user with primary key value\n",
    "\n",
    "with Session() as session:\n",
    "    user = session.get(User,1)\n",
    "    print(user)"
   ]
  },
  {
   "cell_type": "code",
   "execution_count": 32,
   "id": "bca3c9ff",
   "metadata": {},
   "outputs": [
    {
     "name": "stdout",
     "output_type": "stream",
     "text": [
      "2025-10-18 15:19:41,573 INFO sqlalchemy.engine.Engine BEGIN (implicit)\n",
      "2025-10-18 15:19:41,576 INFO sqlalchemy.engine.Engine SELECT \"Users\".\"User_ID\" AS \"Users_User_ID\", \"Users\".\"User_Name\" AS \"Users_User_Name\" \n",
      "FROM \"Users\"\n",
      "2025-10-18 15:19:41,577 INFO sqlalchemy.engine.Engine [generated in 0.00107s] ()\n",
      "1 Alice\n",
      "2 Bob\n",
      "3 Charlie\n",
      "4 David\n",
      "5 Eve\n",
      "6 Frank\n",
      "7 Grace\n",
      "8 Heidi\n",
      "9 Ivan\n",
      "10 Judy\n",
      "2025-10-18 15:19:41,580 INFO sqlalchemy.engine.Engine ROLLBACK\n"
     ]
    }
   ],
   "source": [
    "# Retrieve all user records from the Users table\n",
    "# Get all user records - .all() with query gives all records\n",
    "\n",
    "with Session() as session:\n",
    "    for user in session.query(User).all():\n",
    "        print(user.User_ID, user.User_Name)"
   ]
  },
  {
   "cell_type": "code",
   "execution_count": 33,
   "id": "2e792792",
   "metadata": {},
   "outputs": [
    {
     "name": "stdout",
     "output_type": "stream",
     "text": [
      "2025-10-18 15:19:41,591 INFO sqlalchemy.engine.Engine BEGIN (implicit)\n",
      "2025-10-18 15:19:41,593 INFO sqlalchemy.engine.Engine SELECT \"Contacts\".\"ID\" AS \"Contacts_ID\", \"Contacts\".\"Email\" AS \"Contacts_Email\", \"Contacts\".\"Mobile\" AS \"Contacts_Mobile\" \n",
      "FROM \"Contacts\"\n",
      "2025-10-18 15:19:41,594 INFO sqlalchemy.engine.Engine [generated in 0.00113s] ()\n",
      "1 alice@gmail.com 2025550101\n",
      "2 bob@outlook.com 2025550102\n",
      "3 charlie@gmail.com 2025550103\n",
      "4 david@outlook.com 2025550104\n",
      "5 eve@gmail.com 2025550105\n",
      "6 frank@outlook.com 2025550106\n",
      "7 grace@gmail.com 2025550107\n",
      "8 heidi@outlook.com 2025550108\n",
      "9 ivan@gmail.com 2025550109\n",
      "10 judy@outlook.com 2025550110\n",
      "2025-10-18 15:19:41,596 INFO sqlalchemy.engine.Engine ROLLBACK\n"
     ]
    }
   ],
   "source": [
    "# Retrieve all contact records from the Contacts table\n",
    "\n",
    "with Session() as session:\n",
    "    for contact in session.query(Contact).all():\n",
    "        print(contact.ID, contact.Email, contact.Mobile)"
   ]
  },
  {
   "cell_type": "code",
   "execution_count": 34,
   "id": "b8e01aa9",
   "metadata": {},
   "outputs": [
    {
     "name": "stdout",
     "output_type": "stream",
     "text": [
      "2025-10-18 15:19:41,616 INFO sqlalchemy.engine.Engine BEGIN (implicit)\n",
      "2025-10-18 15:19:41,617 INFO sqlalchemy.engine.Engine SELECT \"Users\".\"User_ID\" AS \"Users_User_ID\", \"Users\".\"User_Name\" AS \"Users_User_Name\" \n",
      "FROM \"Users\" \n",
      "WHERE \"Users\".\"User_ID\" = ?\n",
      "2025-10-18 15:19:41,619 INFO sqlalchemy.engine.Engine [cached since 0.05953s ago] (2,)\n",
      "2025-10-18 15:19:41,623 INFO sqlalchemy.engine.Engine UPDATE \"Users\" SET \"User_Name\"=? WHERE \"Users\".\"User_ID\" = ?\n",
      "2025-10-18 15:19:41,624 INFO sqlalchemy.engine.Engine [generated in 0.00133s] ('Harry', 2)\n",
      "2025-10-18 15:19:41,627 INFO sqlalchemy.engine.Engine COMMIT\n",
      "2025-10-18 15:19:41,636 INFO sqlalchemy.engine.Engine BEGIN (implicit)\n",
      "2025-10-18 15:19:41,638 INFO sqlalchemy.engine.Engine SELECT \"Users\".\"User_ID\" AS \"Users_User_ID\", \"Users\".\"User_Name\" AS \"Users_User_Name\" \n",
      "FROM \"Users\" \n",
      "WHERE \"Users\".\"User_ID\" = ?\n",
      "2025-10-18 15:19:41,640 INFO sqlalchemy.engine.Engine [generated in 0.00160s] (2,)\n",
      "Updated user ID 2 username to: Harry\n",
      "2025-10-18 15:19:41,642 INFO sqlalchemy.engine.Engine ROLLBACK\n"
     ]
    }
   ],
   "source": [
    "# Update a specific user record by ID (Primary Key)\n",
    "\n",
    "with Session() as session:\n",
    "    update_user = session.get(User, 2)\n",
    "    if update_user:\n",
    "        update_user.User_Name = \"Harry\"\n",
    "        session.commit()\n",
    "        print(f\"Updated user ID 2 username to: {update_user.User_Name}\")\n",
    "    else:\n",
    "        print(\"User not found for update.\")\n",
    "\n"
   ]
  },
  {
   "cell_type": "code",
   "execution_count": 35,
   "id": "9a031031",
   "metadata": {},
   "outputs": [
    {
     "name": "stdout",
     "output_type": "stream",
     "text": [
      "2025-10-18 15:19:41,656 INFO sqlalchemy.engine.Engine BEGIN (implicit)\n",
      "2025-10-18 15:19:41,658 INFO sqlalchemy.engine.Engine SELECT \"Contacts\".\"ID\" AS \"Contacts_ID\", \"Contacts\".\"Email\" AS \"Contacts_Email\", \"Contacts\".\"Mobile\" AS \"Contacts_Mobile\" \n",
      "FROM \"Contacts\" \n",
      "WHERE \"Contacts\".\"ID\" = ?\n",
      "2025-10-18 15:19:41,659 INFO sqlalchemy.engine.Engine [generated in 0.00101s] (2,)\n",
      "2025-10-18 15:19:41,662 INFO sqlalchemy.engine.Engine UPDATE \"Contacts\" SET \"Email\"=? WHERE \"Contacts\".\"ID\" = ?\n",
      "2025-10-18 15:19:41,663 INFO sqlalchemy.engine.Engine [generated in 0.00138s] ('harry@outlook.com', 2)\n",
      "2025-10-18 15:19:41,667 INFO sqlalchemy.engine.Engine COMMIT\n",
      "2025-10-18 15:19:41,677 INFO sqlalchemy.engine.Engine BEGIN (implicit)\n",
      "2025-10-18 15:19:41,679 INFO sqlalchemy.engine.Engine SELECT \"Contacts\".\"ID\" AS \"Contacts_ID\", \"Contacts\".\"Email\" AS \"Contacts_Email\", \"Contacts\".\"Mobile\" AS \"Contacts_Mobile\" \n",
      "FROM \"Contacts\" \n",
      "WHERE \"Contacts\".\"ID\" = ?\n",
      "2025-10-18 15:19:41,680 INFO sqlalchemy.engine.Engine [generated in 0.00084s] (2,)\n",
      "Updated contact ID 2 Email to: harry@outlook.com\n",
      "2025-10-18 15:19:41,681 INFO sqlalchemy.engine.Engine ROLLBACK\n"
     ]
    }
   ],
   "source": [
    "# Update a specific contact record by ID (Primary Key)\n",
    "\n",
    "with Session() as session:\n",
    "    email_update = session.get(Contact, 2)\n",
    "    if email_update:\n",
    "        email_update.Email = \"harry@outlook.com\"\n",
    "        session.commit()\n",
    "        print(f\"Updated contact ID 2 Email to: {email_update.Email}\")\n",
    "    else:\n",
    "        print(\"Contact not found\")"
   ]
  },
  {
   "cell_type": "code",
   "execution_count": 36,
   "id": "25b6b411",
   "metadata": {},
   "outputs": [
    {
     "name": "stdout",
     "output_type": "stream",
     "text": [
      "2025-10-18 15:19:41,695 INFO sqlalchemy.engine.Engine BEGIN (implicit)\n",
      "2025-10-18 15:19:41,697 INFO sqlalchemy.engine.Engine INSERT INTO \"Users\" (\"User_ID\", \"User_Name\") VALUES (?, ?)\n",
      "2025-10-18 15:19:41,698 INFO sqlalchemy.engine.Engine [cached since 0.2084s ago] [(11, 'Kevin'), (12, 'Laura')]\n",
      "2025-10-18 15:19:41,700 INFO sqlalchemy.engine.Engine COMMIT\n"
     ]
    }
   ],
   "source": [
    "# Insert additional user records into Users table\n",
    "\n",
    "with Session() as session:\n",
    "    new_users = [\n",
    "        User(User_ID=11, User_Name='Kevin'),\n",
    "        User(User_ID=12, User_Name='Laura'),\n",
    "    ]\n",
    "\n",
    "    session.add_all(new_users)\n",
    "    session.commit()"
   ]
  },
  {
   "cell_type": "code",
   "execution_count": 37,
   "id": "b450ee0f",
   "metadata": {},
   "outputs": [
    {
     "name": "stdout",
     "output_type": "stream",
     "text": [
      "2025-10-18 15:19:41,718 INFO sqlalchemy.engine.Engine BEGIN (implicit)\n",
      "2025-10-18 15:19:41,719 INFO sqlalchemy.engine.Engine INSERT INTO \"Contacts\" (\"ID\", \"Email\", \"Mobile\") VALUES (?, ?, ?)\n",
      "2025-10-18 15:19:41,720 INFO sqlalchemy.engine.Engine [cached since 0.1891s ago] [(11, 'kevin@gmail.com', '2025550111'), (12, 'laura@outlook.com', '2025550112')]\n",
      "2025-10-18 15:19:41,724 INFO sqlalchemy.engine.Engine COMMIT\n"
     ]
    }
   ],
   "source": [
    "# Insert additional contact records into Contacts table\n",
    "\n",
    "with Session() as session:\n",
    "    new_contacts = [\n",
    "        Contact(ID=11, Email='kevin@gmail.com', Mobile='2025550111'),\n",
    "        Contact(ID=12, Email='laura@outlook.com', Mobile='2025550112')\n",
    "    ]\n",
    "    session.add_all(new_contacts)\n",
    "    session.commit()"
   ]
  },
  {
   "cell_type": "code",
   "execution_count": 38,
   "id": "b9f3cab7",
   "metadata": {},
   "outputs": [
    {
     "name": "stdout",
     "output_type": "stream",
     "text": [
      "2025-10-18 15:19:41,741 INFO sqlalchemy.engine.Engine BEGIN (implicit)\n",
      "2025-10-18 15:19:41,743 INFO sqlalchemy.engine.Engine SELECT \"Users\".\"User_ID\" AS \"Users_User_ID\", \"Users\".\"User_Name\" AS \"Users_User_Name\" \n",
      "FROM \"Users\" \n",
      "WHERE \"Users\".\"User_ID\" = ?\n",
      "2025-10-18 15:19:41,744 INFO sqlalchemy.engine.Engine [cached since 0.1845s ago] (11,)\n",
      "2025-10-18 15:19:41,746 INFO sqlalchemy.engine.Engine DELETE FROM \"Users\" WHERE \"Users\".\"User_ID\" = ?\n",
      "2025-10-18 15:19:41,747 INFO sqlalchemy.engine.Engine [generated in 0.00113s] (11,)\n",
      "2025-10-18 15:19:41,750 INFO sqlalchemy.engine.Engine COMMIT\n",
      "User ID 11 deleted.\n",
      "2025-10-18 15:19:41,755 INFO sqlalchemy.engine.Engine BEGIN (implicit)\n",
      "2025-10-18 15:19:41,756 INFO sqlalchemy.engine.Engine SELECT \"Users\".\"User_ID\" AS \"Users_User_ID\", \"Users\".\"User_Name\" AS \"Users_User_Name\" \n",
      "FROM \"Users\" \n",
      "WHERE \"Users\".\"User_ID\" = ?\n",
      "2025-10-18 15:19:41,757 INFO sqlalchemy.engine.Engine [cached since 0.1973s ago] (12,)\n",
      "2025-10-18 15:19:41,758 INFO sqlalchemy.engine.Engine DELETE FROM \"Users\" WHERE \"Users\".\"User_ID\" = ?\n",
      "2025-10-18 15:19:41,758 INFO sqlalchemy.engine.Engine [cached since 0.01215s ago] (12,)\n",
      "2025-10-18 15:19:41,760 INFO sqlalchemy.engine.Engine COMMIT\n",
      "User ID 12 deleted.\n"
     ]
    }
   ],
   "source": [
    "# Delete specific user records by ID (Primary Key)\n",
    "\n",
    "with Session() as session:\n",
    "    delete_user = session.get(User, 11)\n",
    "    if delete_user:\n",
    "        session.delete(delete_user)\n",
    "        session.commit()\n",
    "        print(\"User ID 11 deleted.\")\n",
    "    else:\n",
    "        print(\"User not found for deletion.\")\n",
    "\n",
    "    delete_user = session.get(User, 12)\n",
    "    if delete_user:\n",
    "        session.delete(delete_user)\n",
    "        session.commit()\n",
    "        print(\"User ID 12 deleted.\")\n",
    "    else:\n",
    "        print(\"User not found for deletion.\")"
   ]
  },
  {
   "cell_type": "code",
   "execution_count": 39,
   "id": "2aa13065",
   "metadata": {},
   "outputs": [
    {
     "name": "stdout",
     "output_type": "stream",
     "text": [
      "2025-10-18 15:19:41,773 INFO sqlalchemy.engine.Engine BEGIN (implicit)\n",
      "2025-10-18 15:19:41,774 INFO sqlalchemy.engine.Engine SELECT \"Contacts\".\"ID\" AS \"Contacts_ID\", \"Contacts\".\"Email\" AS \"Contacts_Email\", \"Contacts\".\"Mobile\" AS \"Contacts_Mobile\" \n",
      "FROM \"Contacts\" \n",
      "WHERE \"Contacts\".\"ID\" = ?\n",
      "2025-10-18 15:19:41,775 INFO sqlalchemy.engine.Engine [cached since 0.1172s ago] (11,)\n",
      "2025-10-18 15:19:41,778 INFO sqlalchemy.engine.Engine DELETE FROM \"Contacts\" WHERE \"Contacts\".\"ID\" = ?\n",
      "2025-10-18 15:19:41,778 INFO sqlalchemy.engine.Engine [generated in 0.00099s] (11,)\n",
      "2025-10-18 15:19:41,780 INFO sqlalchemy.engine.Engine COMMIT\n",
      "Contact ID 11 deleted.\n",
      "2025-10-18 15:19:41,784 INFO sqlalchemy.engine.Engine BEGIN (implicit)\n",
      "2025-10-18 15:19:41,785 INFO sqlalchemy.engine.Engine SELECT \"Contacts\".\"ID\" AS \"Contacts_ID\", \"Contacts\".\"Email\" AS \"Contacts_Email\", \"Contacts\".\"Mobile\" AS \"Contacts_Mobile\" \n",
      "FROM \"Contacts\" \n",
      "WHERE \"Contacts\".\"ID\" = ?\n",
      "2025-10-18 15:19:41,785 INFO sqlalchemy.engine.Engine [cached since 0.1273s ago] (12,)\n",
      "2025-10-18 15:19:41,787 INFO sqlalchemy.engine.Engine DELETE FROM \"Contacts\" WHERE \"Contacts\".\"ID\" = ?\n",
      "2025-10-18 15:19:41,788 INFO sqlalchemy.engine.Engine [cached since 0.0105s ago] (12,)\n",
      "2025-10-18 15:19:41,790 INFO sqlalchemy.engine.Engine COMMIT\n",
      "Contact ID 11 deleted.\n"
     ]
    }
   ],
   "source": [
    "# Delete specific contact records by ID (Primary Key) \n",
    "\n",
    "with Session() as session:\n",
    "    delete_contact = session.get(Contact, 11)\n",
    "    if delete_contact:\n",
    "        session.delete(delete_contact)\n",
    "        session.commit()\n",
    "        print(\"Contact ID 11 deleted.\")\n",
    "    else:\n",
    "        print(\"User not found for deletion.\")\n",
    "\n",
    "    delete_contact = session.get(Contact, 12)\n",
    "    if delete_contact:\n",
    "        session.delete(delete_contact)\n",
    "        session.commit()\n",
    "        print(\"Contact ID 11 deleted.\")\n",
    "    else:\n",
    "        print(\"User not found for deletion.\")"
   ]
  },
  {
   "cell_type": "code",
   "execution_count": 40,
   "id": "a545bc6b",
   "metadata": {},
   "outputs": [
    {
     "data": {
      "text/plain": [
       "' \\nfrom sqlalchemy import Table, MetaData\\n\\nengine = create_engine(\"sqlite:///user_details.db\")\\nmeta = MetaData()\\nmeta.reflect(bind=engine)\\n\\n# Drop one or more specific tables\\ntables_to_drop = [\\'Contacts\\', \\'Users\\']\\n\\nfor table_name in tables_to_drop:\\n    if table_name in meta.tables:\\n        table = meta.tables[table_name]\\n        table.drop(engine)\\n        print(f\"Dropped table: {table_name}\")\\n    else:\\n        print(f\"Table not found: {table_name}\")\\n'"
      ]
     },
     "execution_count": 40,
     "metadata": {},
     "output_type": "execute_result"
    }
   ],
   "source": [
    "# Drop tables from the database (optional cleanup).\n",
    "# Use carefully — this will delete all data.\n",
    "\n",
    "\"\"\" \n",
    "from sqlalchemy import Table, MetaData\n",
    "\n",
    "engine = create_engine(\"sqlite:///user_details.db\")\n",
    "meta = MetaData()\n",
    "meta.reflect(bind=engine)\n",
    "\n",
    "# Drop one or more specific tables\n",
    "tables_to_drop = ['Contacts', 'Users']\n",
    "\n",
    "for table_name in tables_to_drop:\n",
    "    if table_name in meta.tables:\n",
    "        table = meta.tables[table_name]\n",
    "        table.drop(engine)\n",
    "        print(f\"Dropped table: {table_name}\")\n",
    "    else:\n",
    "        print(f\"Table not found: {table_name}\")\n",
    "\"\"\"\n"
   ]
  },
  {
   "cell_type": "code",
   "execution_count": null,
   "id": "c3ddc30a",
   "metadata": {},
   "outputs": [],
   "source": []
  }
 ],
 "metadata": {
  "kernelspec": {
   "display_name": "users",
   "language": "python",
   "name": "python3"
  },
  "language_info": {
   "codemirror_mode": {
    "name": "ipython",
    "version": 3
   },
   "file_extension": ".py",
   "mimetype": "text/x-python",
   "name": "python",
   "nbconvert_exporter": "python",
   "pygments_lexer": "ipython3",
   "version": "3.13.7"
  }
 },
 "nbformat": 4,
 "nbformat_minor": 5
}
