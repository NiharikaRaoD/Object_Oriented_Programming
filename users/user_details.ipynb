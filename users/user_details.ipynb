{
 "cells": [
  {
   "cell_type": "code",
   "execution_count": 90,
   "id": "6df7cc13",
   "metadata": {},
   "outputs": [],
   "source": [
    "from dotenv import load_dotenv\n",
    "import os"
   ]
  },
  {
   "cell_type": "code",
   "execution_count": 91,
   "id": "1c1938b5",
   "metadata": {},
   "outputs": [
    {
     "data": {
      "text/plain": [
       "True"
      ]
     },
     "execution_count": 91,
     "metadata": {},
     "output_type": "execute_result"
    }
   ],
   "source": [
    "load_dotenv()"
   ]
  },
  {
   "cell_type": "code",
   "execution_count": 92,
   "id": "d6dfaa4c",
   "metadata": {},
   "outputs": [],
   "source": [
    "USERDETAILS_URL = os.getenv('USERDETAILS_DB_URL', 'sqlite:///default.db')"
   ]
  },
  {
   "cell_type": "code",
   "execution_count": 93,
   "id": "9f5436e1",
   "metadata": {},
   "outputs": [
    {
     "name": "stdout",
     "output_type": "stream",
     "text": [
      "sqlite:///user_details.db\n"
     ]
    }
   ],
   "source": [
    "print(USERDETAILS_URL)"
   ]
  },
  {
   "cell_type": "code",
   "execution_count": 94,
   "id": "c05b92d5",
   "metadata": {},
   "outputs": [],
   "source": [
    "from sqlalchemy import create_engine"
   ]
  },
  {
   "cell_type": "code",
   "execution_count": 95,
   "id": "370baaed",
   "metadata": {},
   "outputs": [],
   "source": [
    "# 1. Create an Engine (representing the database connection)\n",
    "engine = create_engine(url = CONNECTION_URL, echo = True)\n",
    "#pool = 5"
   ]
  },
  {
   "cell_type": "code",
   "execution_count": 96,
   "id": "966144c1",
   "metadata": {},
   "outputs": [],
   "source": [
    "# Base - A registry which has all ORM modules\n",
    "\n",
    "class Base(DeclarativeBase):\n",
    "    \"\"\" Base class for all ORM models.\n",
    "\n",
    "    This class acts as the declarative base for SQLAlchemy ORM models.\n",
    "    All entity classes (tables) in the application should inherit from this\n",
    "    class to ensure consistent metadata and mapping behavior\n",
    "\n",
    "    \"\"\"\n",
    "\n",
    "    pass"
   ]
  },
  {
   "cell_type": "code",
   "execution_count": 97,
   "id": "fd94abe6",
   "metadata": {},
   "outputs": [],
   "source": [
    "from sqlalchemy.orm import DeclarativeBase, Mapped, mapped_column\n",
    "from sqlalchemy import String"
   ]
  },
  {
   "cell_type": "code",
   "execution_count": 98,
   "id": "140891eb",
   "metadata": {},
   "outputs": [],
   "source": [
    "class User(Base):\n",
    "    __tablename__ = \"Users\"\n",
    "\n",
    "    User_ID: Mapped[int] = mapped_column(primary_key=True)\n",
    "    User_Name: Mapped[str] = mapped_column(String(30), unique=True)"
   ]
  },
  {
   "cell_type": "code",
   "execution_count": 99,
   "id": "57250747",
   "metadata": {},
   "outputs": [],
   "source": [
    "class Contact(Base):\n",
    "    __tablename__ = \"Contacts\"\n",
    "\n",
    "    ID: Mapped[int] = mapped_column(primary_key=True)\n",
    "    Email: Mapped[str] = mapped_column(String(100))\n",
    "    Mobile: Mapped[str] = mapped_column(String(15))"
   ]
  },
  {
   "cell_type": "code",
   "execution_count": 100,
   "id": "e6ada267",
   "metadata": {},
   "outputs": [
    {
     "name": "stdout",
     "output_type": "stream",
     "text": [
      "2025-10-18 14:09:42,362 INFO sqlalchemy.engine.Engine BEGIN (implicit)\n",
      "2025-10-18 14:09:42,363 INFO sqlalchemy.engine.Engine PRAGMA main.table_info(\"Users\")\n",
      "2025-10-18 14:09:42,364 INFO sqlalchemy.engine.Engine [raw sql] ()\n",
      "2025-10-18 14:09:42,365 INFO sqlalchemy.engine.Engine PRAGMA temp.table_info(\"Users\")\n",
      "2025-10-18 14:09:42,365 INFO sqlalchemy.engine.Engine [raw sql] ()\n",
      "2025-10-18 14:09:42,366 INFO sqlalchemy.engine.Engine PRAGMA main.table_info(\"Contacts\")\n",
      "2025-10-18 14:09:42,367 INFO sqlalchemy.engine.Engine [raw sql] ()\n",
      "2025-10-18 14:09:42,368 INFO sqlalchemy.engine.Engine PRAGMA temp.table_info(\"Contacts\")\n",
      "2025-10-18 14:09:42,369 INFO sqlalchemy.engine.Engine [raw sql] ()\n",
      "2025-10-18 14:09:42,371 INFO sqlalchemy.engine.Engine \n",
      "CREATE TABLE \"Users\" (\n",
      "\t\"User_ID\" INTEGER NOT NULL, \n",
      "\t\"User_Name\" VARCHAR(30) NOT NULL, \n",
      "\tPRIMARY KEY (\"User_ID\"), \n",
      "\tUNIQUE (\"User_Name\")\n",
      ")\n",
      "\n",
      "\n",
      "2025-10-18 14:09:42,372 INFO sqlalchemy.engine.Engine [no key 0.00094s] ()\n",
      "2025-10-18 14:09:42,380 INFO sqlalchemy.engine.Engine \n",
      "CREATE TABLE \"Contacts\" (\n",
      "\t\"ID\" INTEGER NOT NULL, \n",
      "\t\"Email\" VARCHAR(100) NOT NULL, \n",
      "\t\"Mobile\" VARCHAR(15) NOT NULL, \n",
      "\tPRIMARY KEY (\"ID\")\n",
      ")\n",
      "\n",
      "\n",
      "2025-10-18 14:09:42,381 INFO sqlalchemy.engine.Engine [no key 0.00193s] ()\n",
      "2025-10-18 14:09:42,389 INFO sqlalchemy.engine.Engine COMMIT\n"
     ]
    }
   ],
   "source": [
    "# To create tables\n",
    "Base.metadata.create_all(engine)"
   ]
  },
  {
   "cell_type": "code",
   "execution_count": 101,
   "id": "34c6d19a",
   "metadata": {},
   "outputs": [],
   "source": [
    "# sessionmaker() returns a class; calling it creates a Session instance\n",
    "from sqlalchemy.orm import sessionmaker\n",
    "\n",
    "# Create a sessionmaker bound to the engine and perform CRUD operations\n",
    "Session = sessionmaker(bind=engine)"
   ]
  },
  {
   "cell_type": "code",
   "execution_count": 102,
   "id": "8915faa3",
   "metadata": {},
   "outputs": [
    {
     "name": "stdout",
     "output_type": "stream",
     "text": [
      "2025-10-18 14:10:01,944 INFO sqlalchemy.engine.Engine BEGIN (implicit)\n",
      "2025-10-18 14:10:01,946 INFO sqlalchemy.engine.Engine INSERT INTO \"Users\" (\"User_ID\", \"User_Name\") VALUES (?, ?)\n",
      "2025-10-18 14:10:01,947 INFO sqlalchemy.engine.Engine [generated in 0.00082s] [(1, 'Alice'), (2, 'Bob'), (3, 'Charlie'), (4, 'David'), (5, 'Eve'), (6, 'Frank'), (7, 'Grace'), (8, 'Heidi'), (9, 'Ivan'), (10, 'Judy')]\n",
      "2025-10-18 14:10:01,949 INFO sqlalchemy.engine.Engine COMMIT\n"
     ]
    }
   ],
   "source": [
    "\n",
    "# Create and use a Session instance\n",
    "# Perform database operations within the session\n",
    "# e.g., session.add(my_object), session.commit(), session.query(MyClass).all()\n",
    "\n",
    "\n",
    "# Add Users records into User Table\n",
    "\n",
    "with Session() as session:\n",
    "    users = [\n",
    "        User(User_ID=1, User_Name='Alice'),\n",
    "        User(User_ID=2, User_Name='Bob'),\n",
    "        User(User_ID=3, User_Name='Charlie'),\n",
    "        User(User_ID=4, User_Name='David'),\n",
    "        User(User_ID=5, User_Name='Eve'),\n",
    "        User(User_ID=6, User_Name='Frank'),\n",
    "        User(User_ID=7, User_Name='Grace'),\n",
    "        User(User_ID=8, User_Name='Heidi'),\n",
    "        User(User_ID=9, User_Name='Ivan'),\n",
    "        User(User_ID=10, User_Name='Judy')\n",
    "    ]\n",
    "    session.add_all(users)\n",
    "    session.commit()\n"
   ]
  },
  {
   "cell_type": "code",
   "execution_count": 103,
   "id": "fa1466d2",
   "metadata": {},
   "outputs": [
    {
     "name": "stdout",
     "output_type": "stream",
     "text": [
      "2025-10-18 14:10:10,264 INFO sqlalchemy.engine.Engine BEGIN (implicit)\n",
      "2025-10-18 14:10:10,265 INFO sqlalchemy.engine.Engine INSERT INTO \"Contacts\" (\"ID\", \"Email\", \"Mobile\") VALUES (?, ?, ?)\n",
      "2025-10-18 14:10:10,266 INFO sqlalchemy.engine.Engine [generated in 0.00053s] [(1, 'alice@gmail.com', '2025550101'), (2, 'bob@outlook.com', '2025550102'), (3, 'charlie@gmail.com', '2025550103'), (4, 'david@outlook.com', '2025550104'), (5, 'eve@gmail.com', '2025550105'), (6, 'frank@outlook.com', '2025550106'), (7, 'grace@gmail.com', '2025550107'), (8, 'heidi@outlook.com', '2025550108'), (9, 'ivan@gmail.com', '2025550109'), (10, 'judy@outlook.com', '2025550110')]\n",
      "2025-10-18 14:10:10,268 INFO sqlalchemy.engine.Engine COMMIT\n"
     ]
    }
   ],
   "source": [
    "# Add Contact details into User Table\n",
    "\n",
    "with Session() as session:\n",
    "    contacts = [\n",
    "        Contact(ID=1,  Email='alice@gmail.com',    Mobile='2025550101'),\n",
    "        Contact(ID=2,  Email='bob@outlook.com',    Mobile='2025550102'),\n",
    "        Contact(ID=3,  Email='charlie@gmail.com',  Mobile='2025550103'),\n",
    "        Contact(ID=4,  Email='david@outlook.com',  Mobile='2025550104'),\n",
    "        Contact(ID=5,  Email='eve@gmail.com',      Mobile='2025550105'),\n",
    "        Contact(ID=6,  Email='frank@outlook.com',  Mobile='2025550106'),\n",
    "        Contact(ID=7,  Email='grace@gmail.com',    Mobile='2025550107'),\n",
    "        Contact(ID=8,  Email='heidi@outlook.com',  Mobile='2025550108'),\n",
    "        Contact(ID=9,  Email='ivan@gmail.com',     Mobile='2025550109'),\n",
    "        Contact(ID=10, Email='judy@outlook.com',   Mobile='2025550110')\n",
    "    ]\n",
    "    session.add_all(contacts)\n",
    "    session.commit()"
   ]
  },
  {
   "cell_type": "code",
   "execution_count": 104,
   "id": "f9e8e526",
   "metadata": {},
   "outputs": [
    {
     "name": "stdout",
     "output_type": "stream",
     "text": [
      "2025-10-18 14:10:29,065 INFO sqlalchemy.engine.Engine BEGIN (implicit)\n",
      "2025-10-18 14:10:29,066 INFO sqlalchemy.engine.Engine SELECT \"Users\".\"User_ID\" AS \"Users_User_ID\", \"Users\".\"User_Name\" AS \"Users_User_Name\" \n",
      "FROM \"Users\" \n",
      "WHERE \"Users\".\"User_ID\" = ?\n",
      "2025-10-18 14:10:29,067 INFO sqlalchemy.engine.Engine [generated in 0.00048s] (1,)\n",
      "<__main__.User object at 0x000001C2452BF7A0>\n",
      "2025-10-18 14:10:29,068 INFO sqlalchemy.engine.Engine ROLLBACK\n"
     ]
    }
   ],
   "source": [
    "# Retrieve User Details\n",
    "# Single user record - .get() gets only the user with primary key value\n",
    "\n",
    "with Session() as session:\n",
    "    user = session.get(User,1)\n",
    "    print(user)"
   ]
  },
  {
   "cell_type": "code",
   "execution_count": 105,
   "id": "bca3c9ff",
   "metadata": {},
   "outputs": [
    {
     "name": "stdout",
     "output_type": "stream",
     "text": [
      "2025-10-18 14:11:06,670 INFO sqlalchemy.engine.Engine BEGIN (implicit)\n",
      "2025-10-18 14:11:06,672 INFO sqlalchemy.engine.Engine SELECT \"Users\".\"User_ID\" AS \"Users_User_ID\", \"Users\".\"User_Name\" AS \"Users_User_Name\" \n",
      "FROM \"Users\"\n",
      "2025-10-18 14:11:06,673 INFO sqlalchemy.engine.Engine [generated in 0.00113s] ()\n",
      "1 Alice\n",
      "2 Bob\n",
      "3 Charlie\n",
      "4 David\n",
      "5 Eve\n",
      "6 Frank\n",
      "7 Grace\n",
      "8 Heidi\n",
      "9 Ivan\n",
      "10 Judy\n",
      "2025-10-18 14:11:06,676 INFO sqlalchemy.engine.Engine ROLLBACK\n"
     ]
    }
   ],
   "source": [
    "# Retrieve User Details\n",
    "# Get all user records - .all() with query gives all records\n",
    "\n",
    "with Session() as session:\n",
    "    for user in session.query(User).all():\n",
    "        print(user.User_ID, user.User_Name)"
   ]
  },
  {
   "cell_type": "code",
   "execution_count": 106,
   "id": "2e792792",
   "metadata": {},
   "outputs": [
    {
     "name": "stdout",
     "output_type": "stream",
     "text": [
      "2025-10-18 14:11:10,519 INFO sqlalchemy.engine.Engine BEGIN (implicit)\n",
      "2025-10-18 14:11:10,521 INFO sqlalchemy.engine.Engine SELECT \"Contacts\".\"ID\" AS \"Contacts_ID\", \"Contacts\".\"Email\" AS \"Contacts_Email\", \"Contacts\".\"Mobile\" AS \"Contacts_Mobile\" \n",
      "FROM \"Contacts\"\n",
      "2025-10-18 14:11:10,522 INFO sqlalchemy.engine.Engine [generated in 0.00053s] ()\n",
      "1 alice@gmail.com 2025550101\n",
      "2 bob@outlook.com 2025550102\n",
      "3 charlie@gmail.com 2025550103\n",
      "4 david@outlook.com 2025550104\n",
      "5 eve@gmail.com 2025550105\n",
      "6 frank@outlook.com 2025550106\n",
      "7 grace@gmail.com 2025550107\n",
      "8 heidi@outlook.com 2025550108\n",
      "9 ivan@gmail.com 2025550109\n",
      "10 judy@outlook.com 2025550110\n",
      "2025-10-18 14:11:10,523 INFO sqlalchemy.engine.Engine ROLLBACK\n"
     ]
    }
   ],
   "source": [
    "# Retrieve Contact Details\n",
    "\n",
    "with Session() as session:\n",
    "    for contact in session.query(Contact).all():\n",
    "        print(contact.ID, contact.Email, contact.Mobile)"
   ]
  },
  {
   "cell_type": "code",
   "execution_count": 107,
   "id": "b8e01aa9",
   "metadata": {},
   "outputs": [
    {
     "name": "stdout",
     "output_type": "stream",
     "text": [
      "2025-10-18 14:11:45,014 INFO sqlalchemy.engine.Engine BEGIN (implicit)\n",
      "2025-10-18 14:11:45,015 INFO sqlalchemy.engine.Engine SELECT \"Users\".\"User_ID\" AS \"Users_User_ID\", \"Users\".\"User_Name\" AS \"Users_User_Name\" \n",
      "FROM \"Users\" \n",
      "WHERE \"Users\".\"User_ID\" = ?\n",
      "2025-10-18 14:11:45,015 INFO sqlalchemy.engine.Engine [cached since 75.95s ago] (2,)\n",
      "2025-10-18 14:11:45,017 INFO sqlalchemy.engine.Engine UPDATE \"Users\" SET \"User_Name\"=? WHERE \"Users\".\"User_ID\" = ?\n",
      "2025-10-18 14:11:45,017 INFO sqlalchemy.engine.Engine [generated in 0.00046s] ('Harry', 2)\n",
      "2025-10-18 14:11:45,020 INFO sqlalchemy.engine.Engine COMMIT\n",
      "2025-10-18 14:11:45,024 INFO sqlalchemy.engine.Engine BEGIN (implicit)\n",
      "2025-10-18 14:11:45,026 INFO sqlalchemy.engine.Engine SELECT \"Users\".\"User_ID\" AS \"Users_User_ID\", \"Users\".\"User_Name\" AS \"Users_User_Name\" \n",
      "FROM \"Users\" \n",
      "WHERE \"Users\".\"User_ID\" = ?\n",
      "2025-10-18 14:11:45,027 INFO sqlalchemy.engine.Engine [generated in 0.00085s] (2,)\n",
      "Updated user ID 2 username to: Harry\n",
      "2025-10-18 14:11:45,028 INFO sqlalchemy.engine.Engine ROLLBACK\n"
     ]
    }
   ],
   "source": [
    "# Update a user record\n",
    "\n",
    "with Session() as session:\n",
    "    update_user = session.get(User, 2)\n",
    "    if update_user:\n",
    "        update_user.User_Name = \"Harry\"\n",
    "        session.commit()\n",
    "        print(f\"Updated user ID 2 username to: {update_user.User_Name}\")\n",
    "    else:\n",
    "        print(\"User not found for update.\")\n",
    "\n"
   ]
  },
  {
   "cell_type": "code",
   "execution_count": 108,
   "id": "9a031031",
   "metadata": {},
   "outputs": [
    {
     "name": "stdout",
     "output_type": "stream",
     "text": [
      "2025-10-18 14:11:49,125 INFO sqlalchemy.engine.Engine BEGIN (implicit)\n",
      "2025-10-18 14:11:49,127 INFO sqlalchemy.engine.Engine SELECT \"Contacts\".\"ID\" AS \"Contacts_ID\", \"Contacts\".\"Email\" AS \"Contacts_Email\", \"Contacts\".\"Mobile\" AS \"Contacts_Mobile\" \n",
      "FROM \"Contacts\" \n",
      "WHERE \"Contacts\".\"ID\" = ?\n",
      "2025-10-18 14:11:49,127 INFO sqlalchemy.engine.Engine [generated in 0.00059s] (2,)\n",
      "2025-10-18 14:11:49,129 INFO sqlalchemy.engine.Engine UPDATE \"Contacts\" SET \"Email\"=? WHERE \"Contacts\".\"ID\" = ?\n",
      "2025-10-18 14:11:49,130 INFO sqlalchemy.engine.Engine [generated in 0.00081s] ('harry@outlook.com', 2)\n",
      "2025-10-18 14:11:49,132 INFO sqlalchemy.engine.Engine COMMIT\n",
      "2025-10-18 14:11:49,137 INFO sqlalchemy.engine.Engine BEGIN (implicit)\n",
      "2025-10-18 14:11:49,139 INFO sqlalchemy.engine.Engine SELECT \"Contacts\".\"ID\" AS \"Contacts_ID\", \"Contacts\".\"Email\" AS \"Contacts_Email\", \"Contacts\".\"Mobile\" AS \"Contacts_Mobile\" \n",
      "FROM \"Contacts\" \n",
      "WHERE \"Contacts\".\"ID\" = ?\n",
      "2025-10-18 14:11:49,140 INFO sqlalchemy.engine.Engine [generated in 0.00145s] (2,)\n",
      "Updated contact ID 2 Email to: harry@outlook.com\n",
      "2025-10-18 14:11:49,142 INFO sqlalchemy.engine.Engine ROLLBACK\n"
     ]
    }
   ],
   "source": [
    "# Update a contact record\n",
    "\n",
    "with Session() as session:\n",
    "    email_update = session.get(Contact, 2)\n",
    "    if email_update:\n",
    "        email_update.Email = \"harry@outlook.com\"\n",
    "        session.commit()\n",
    "        print(f\"Updated contact ID 2 Email to: {email_update.Email}\")\n",
    "    else:\n",
    "        print(\"Contact not found\")"
   ]
  },
  {
   "cell_type": "code",
   "execution_count": 109,
   "id": "25b6b411",
   "metadata": {},
   "outputs": [
    {
     "name": "stdout",
     "output_type": "stream",
     "text": [
      "2025-10-18 14:12:03,533 INFO sqlalchemy.engine.Engine BEGIN (implicit)\n",
      "2025-10-18 14:12:03,533 INFO sqlalchemy.engine.Engine INSERT INTO \"Users\" (\"User_ID\", \"User_Name\") VALUES (?, ?)\n",
      "2025-10-18 14:12:03,534 INFO sqlalchemy.engine.Engine [cached since 121.6s ago] [(11, 'Kevin'), (12, 'Laura')]\n",
      "2025-10-18 14:12:03,559 INFO sqlalchemy.engine.Engine COMMIT\n"
     ]
    }
   ],
   "source": [
    "# Add new user records\n",
    "\n",
    "with Session() as session:\n",
    "    new_users = [\n",
    "        User(User_ID=11, User_Name='Kevin'),\n",
    "        User(User_ID=12, User_Name='Laura'),\n",
    "    ]\n",
    "\n",
    "    session.add_all(new_users)\n",
    "    session.commit()"
   ]
  },
  {
   "cell_type": "code",
   "execution_count": 110,
   "id": "b450ee0f",
   "metadata": {},
   "outputs": [
    {
     "name": "stdout",
     "output_type": "stream",
     "text": [
      "2025-10-18 14:12:05,879 INFO sqlalchemy.engine.Engine BEGIN (implicit)\n",
      "2025-10-18 14:12:05,880 INFO sqlalchemy.engine.Engine INSERT INTO \"Contacts\" (\"ID\", \"Email\", \"Mobile\") VALUES (?, ?, ?)\n",
      "2025-10-18 14:12:05,880 INFO sqlalchemy.engine.Engine [cached since 115.6s ago] [(11, 'kevin@gmail.com', '2025550111'), (12, 'laura@outlook.com', '2025550112')]\n",
      "2025-10-18 14:12:05,905 INFO sqlalchemy.engine.Engine COMMIT\n"
     ]
    }
   ],
   "source": [
    "# Add new contact records\n",
    "\n",
    "with Session() as session:\n",
    "    new_contacts = [\n",
    "        Contact(ID=11, Email='kevin@gmail.com', Mobile='2025550111'),\n",
    "        Contact(ID=12, Email='laura@outlook.com', Mobile='2025550112')\n",
    "    ]\n",
    "    session.add_all(new_contacts)\n",
    "    session.commit()"
   ]
  },
  {
   "cell_type": "code",
   "execution_count": 111,
   "id": "b9f3cab7",
   "metadata": {},
   "outputs": [
    {
     "name": "stdout",
     "output_type": "stream",
     "text": [
      "2025-10-18 14:12:35,012 INFO sqlalchemy.engine.Engine BEGIN (implicit)\n",
      "2025-10-18 14:12:35,013 INFO sqlalchemy.engine.Engine SELECT \"Users\".\"User_ID\" AS \"Users_User_ID\", \"Users\".\"User_Name\" AS \"Users_User_Name\" \n",
      "FROM \"Users\" \n",
      "WHERE \"Users\".\"User_ID\" = ?\n",
      "2025-10-18 14:12:35,014 INFO sqlalchemy.engine.Engine [cached since 125.9s ago] (11,)\n",
      "2025-10-18 14:12:35,016 INFO sqlalchemy.engine.Engine DELETE FROM \"Users\" WHERE \"Users\".\"User_ID\" = ?\n",
      "2025-10-18 14:12:35,017 INFO sqlalchemy.engine.Engine [generated in 0.00124s] (11,)\n",
      "2025-10-18 14:12:35,020 INFO sqlalchemy.engine.Engine COMMIT\n",
      "User ID 11 deleted.\n",
      "2025-10-18 14:12:35,024 INFO sqlalchemy.engine.Engine BEGIN (implicit)\n",
      "2025-10-18 14:12:35,025 INFO sqlalchemy.engine.Engine SELECT \"Users\".\"User_ID\" AS \"Users_User_ID\", \"Users\".\"User_Name\" AS \"Users_User_Name\" \n",
      "FROM \"Users\" \n",
      "WHERE \"Users\".\"User_ID\" = ?\n",
      "2025-10-18 14:12:35,026 INFO sqlalchemy.engine.Engine [cached since 126s ago] (12,)\n",
      "2025-10-18 14:12:35,027 INFO sqlalchemy.engine.Engine DELETE FROM \"Users\" WHERE \"Users\".\"User_ID\" = ?\n",
      "2025-10-18 14:12:35,028 INFO sqlalchemy.engine.Engine [cached since 0.01179s ago] (12,)\n",
      "2025-10-18 14:12:35,030 INFO sqlalchemy.engine.Engine COMMIT\n",
      "User ID 12 deleted.\n"
     ]
    }
   ],
   "source": [
    "# Delete user records \n",
    "\n",
    "with Session() as session:\n",
    "    delete_user = session.get(User, 11)\n",
    "    if delete_user:\n",
    "        session.delete(delete_user)\n",
    "        session.commit()\n",
    "        print(\"User ID 11 deleted.\")\n",
    "    else:\n",
    "        print(\"User not found for deletion.\")\n",
    "\n",
    "    delete_user = session.get(User, 12)\n",
    "    if delete_user:\n",
    "        session.delete(delete_user)\n",
    "        session.commit()\n",
    "        print(\"User ID 12 deleted.\")\n",
    "    else:\n",
    "        print(\"User not found for deletion.\")"
   ]
  },
  {
   "cell_type": "code",
   "execution_count": 112,
   "id": "2aa13065",
   "metadata": {},
   "outputs": [
    {
     "name": "stdout",
     "output_type": "stream",
     "text": [
      "2025-10-18 14:12:37,458 INFO sqlalchemy.engine.Engine BEGIN (implicit)\n",
      "2025-10-18 14:12:37,459 INFO sqlalchemy.engine.Engine SELECT \"Contacts\".\"ID\" AS \"Contacts_ID\", \"Contacts\".\"Email\" AS \"Contacts_Email\", \"Contacts\".\"Mobile\" AS \"Contacts_Mobile\" \n",
      "FROM \"Contacts\" \n",
      "WHERE \"Contacts\".\"ID\" = ?\n",
      "2025-10-18 14:12:37,460 INFO sqlalchemy.engine.Engine [cached since 48.33s ago] (11,)\n",
      "2025-10-18 14:12:37,461 INFO sqlalchemy.engine.Engine DELETE FROM \"Contacts\" WHERE \"Contacts\".\"ID\" = ?\n",
      "2025-10-18 14:12:37,462 INFO sqlalchemy.engine.Engine [generated in 0.00053s] (11,)\n",
      "2025-10-18 14:12:37,483 INFO sqlalchemy.engine.Engine COMMIT\n",
      "Contact ID 11 deleted.\n",
      "2025-10-18 14:12:37,494 INFO sqlalchemy.engine.Engine BEGIN (implicit)\n",
      "2025-10-18 14:12:37,496 INFO sqlalchemy.engine.Engine SELECT \"Contacts\".\"ID\" AS \"Contacts_ID\", \"Contacts\".\"Email\" AS \"Contacts_Email\", \"Contacts\".\"Mobile\" AS \"Contacts_Mobile\" \n",
      "FROM \"Contacts\" \n",
      "WHERE \"Contacts\".\"ID\" = ?\n",
      "2025-10-18 14:12:37,497 INFO sqlalchemy.engine.Engine [cached since 48.37s ago] (12,)\n",
      "2025-10-18 14:12:37,499 INFO sqlalchemy.engine.Engine DELETE FROM \"Contacts\" WHERE \"Contacts\".\"ID\" = ?\n",
      "2025-10-18 14:12:37,500 INFO sqlalchemy.engine.Engine [cached since 0.03841s ago] (12,)\n",
      "2025-10-18 14:12:37,502 INFO sqlalchemy.engine.Engine COMMIT\n",
      "Contact ID 11 deleted.\n"
     ]
    }
   ],
   "source": [
    "# Delete contact records \n",
    "\n",
    "with Session() as session:\n",
    "    delete_contact = session.get(Contact, 11)\n",
    "    if delete_contact:\n",
    "        session.delete(delete_contact)\n",
    "        session.commit()\n",
    "        print(\"Contact ID 11 deleted.\")\n",
    "    else:\n",
    "        print(\"User not found for deletion.\")\n",
    "\n",
    "    delete_contact = session.get(Contact, 12)\n",
    "    if delete_contact:\n",
    "        session.delete(delete_contact)\n",
    "        session.commit()\n",
    "        print(\"Contact ID 11 deleted.\")\n",
    "    else:\n",
    "        print(\"User not found for deletion.\")"
   ]
  },
  {
   "cell_type": "code",
   "execution_count": null,
   "id": "a545bc6b",
   "metadata": {},
   "outputs": [
    {
     "name": "stdout",
     "output_type": "stream",
     "text": [
      "✅ Dropped table: Contacts\n",
      "✅ Dropped table: Users\n"
     ]
    }
   ],
   "source": [
    "# Drop tables\n",
    "\n",
    "# from sqlalchemy import Table, MetaData\n",
    "\n",
    "# engine = create_engine(\"sqlite:///user_details.db\")\n",
    "# meta = MetaData()\n",
    "# meta.reflect(bind=engine)\n",
    "\n",
    "# Drop one or more specific tables\n",
    "# tables_to_drop = ['Contacts', 'Users']\n",
    "\n",
    "f# for table_name in tables_to_drop:\n",
    "    # if table_name in meta.tables:\n",
    "        # table = meta.tables[table_name]\n",
    "        # table.drop(engine)\n",
    "        # print(f\"✅ Dropped table: {table_name}\")\n",
    "    # else:\n",
    "        # print(f\"⚠️ Table not found: {table_name}\")\n"
   ]
  },
  {
   "cell_type": "code",
   "execution_count": null,
   "id": "c3ddc30a",
   "metadata": {},
   "outputs": [],
   "source": []
  }
 ],
 "metadata": {
  "kernelspec": {
   "display_name": "users",
   "language": "python",
   "name": "python3"
  },
  "language_info": {
   "codemirror_mode": {
    "name": "ipython",
    "version": 3
   },
   "file_extension": ".py",
   "mimetype": "text/x-python",
   "name": "python",
   "nbconvert_exporter": "python",
   "pygments_lexer": "ipython3",
   "version": "3.13.7"
  }
 },
 "nbformat": 4,
 "nbformat_minor": 5
}
